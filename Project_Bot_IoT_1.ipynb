{
 "cells": [
  {
   "cell_type": "markdown",
   "metadata": {
    "id": "fCCsoBriW4a1"
   },
   "source": [
    "# Classification of Network Attacks using BoT IoT Dataset"
   ]
  },
  {
   "cell_type": "code",
   "execution_count": 59,
   "metadata": {
    "id": "_Nikuy9-W4a3"
   },
   "outputs": [],
   "source": [
    "# Importing necessary libraries\n",
    "import numpy as np\n",
    "import pandas as pd\n",
    "import matplotlib.pyplot as plt\n",
    "import seaborn as sns\n",
    "from sklearn.preprocessing import LabelEncoder, StandardScaler\n",
    "from sklearn.model_selection import train_test_split\n",
    "from sklearn.ensemble import RandomForestClassifier\n",
    "from sklearn.naive_bayes import GaussianNB\n",
    "from sklearn.neighbors import KNeighborsClassifier\n",
    "from sklearn.tree import DecisionTreeClassifier\n",
    "from xgboost import XGBClassifier\n",
    "from sklearn.metrics import confusion_matrix, classification_report\n",
    "import warnings\n",
    "warnings.filterwarnings('ignore')\n",
    "\n",
    "%matplotlib inline"
   ]
  },
  {
   "cell_type": "code",
   "execution_count": 60,
   "metadata": {
    "colab": {
     "base_uri": "https://localhost:8080/",
     "height": 270
    },
    "id": "nbry6p4UW4a5",
    "outputId": "79472f25-1792-48c2-fd81-e25a7cb393e3"
   },
   "outputs": [
    {
     "data": {
      "text/html": [
       "<div>\n",
       "<style scoped>\n",
       "    .dataframe tbody tr th:only-of-type {\n",
       "        vertical-align: middle;\n",
       "    }\n",
       "\n",
       "    .dataframe tbody tr th {\n",
       "        vertical-align: top;\n",
       "    }\n",
       "\n",
       "    .dataframe thead th {\n",
       "        text-align: right;\n",
       "    }\n",
       "</style>\n",
       "<table border=\"1\" class=\"dataframe\">\n",
       "  <thead>\n",
       "    <tr style=\"text-align: right;\">\n",
       "      <th></th>\n",
       "      <th>pkSeqID</th>\n",
       "      <th>proto</th>\n",
       "      <th>saddr</th>\n",
       "      <th>sport</th>\n",
       "      <th>daddr</th>\n",
       "      <th>dport</th>\n",
       "      <th>seq</th>\n",
       "      <th>stddev</th>\n",
       "      <th>N_IN_Conn_P_SrcIP</th>\n",
       "      <th>min</th>\n",
       "      <th>state_number</th>\n",
       "      <th>mean</th>\n",
       "      <th>N_IN_Conn_P_DstIP</th>\n",
       "      <th>drate</th>\n",
       "      <th>srate</th>\n",
       "      <th>max</th>\n",
       "      <th>attack</th>\n",
       "      <th>category</th>\n",
       "      <th>subcategory</th>\n",
       "    </tr>\n",
       "  </thead>\n",
       "  <tbody>\n",
       "    <tr>\n",
       "      <th>0</th>\n",
       "      <td>3142762</td>\n",
       "      <td>udp</td>\n",
       "      <td>192.168.100.150</td>\n",
       "      <td>6551</td>\n",
       "      <td>192.168.100.3</td>\n",
       "      <td>80</td>\n",
       "      <td>251984</td>\n",
       "      <td>1.900363</td>\n",
       "      <td>100</td>\n",
       "      <td>0.000000</td>\n",
       "      <td>4</td>\n",
       "      <td>2.687519</td>\n",
       "      <td>100</td>\n",
       "      <td>0.0</td>\n",
       "      <td>0.494549</td>\n",
       "      <td>4.031619</td>\n",
       "      <td>1</td>\n",
       "      <td>DDoS</td>\n",
       "      <td>UDP</td>\n",
       "    </tr>\n",
       "    <tr>\n",
       "      <th>1</th>\n",
       "      <td>2432264</td>\n",
       "      <td>tcp</td>\n",
       "      <td>192.168.100.150</td>\n",
       "      <td>5532</td>\n",
       "      <td>192.168.100.3</td>\n",
       "      <td>80</td>\n",
       "      <td>256724</td>\n",
       "      <td>0.078003</td>\n",
       "      <td>38</td>\n",
       "      <td>3.856930</td>\n",
       "      <td>3</td>\n",
       "      <td>3.934927</td>\n",
       "      <td>100</td>\n",
       "      <td>0.0</td>\n",
       "      <td>0.256493</td>\n",
       "      <td>4.012924</td>\n",
       "      <td>1</td>\n",
       "      <td>DDoS</td>\n",
       "      <td>TCP</td>\n",
       "    </tr>\n",
       "    <tr>\n",
       "      <th>2</th>\n",
       "      <td>1976315</td>\n",
       "      <td>tcp</td>\n",
       "      <td>192.168.100.147</td>\n",
       "      <td>27165</td>\n",
       "      <td>192.168.100.3</td>\n",
       "      <td>80</td>\n",
       "      <td>62921</td>\n",
       "      <td>0.268666</td>\n",
       "      <td>100</td>\n",
       "      <td>2.974100</td>\n",
       "      <td>3</td>\n",
       "      <td>3.341429</td>\n",
       "      <td>100</td>\n",
       "      <td>0.0</td>\n",
       "      <td>0.294880</td>\n",
       "      <td>3.609205</td>\n",
       "      <td>1</td>\n",
       "      <td>DDoS</td>\n",
       "      <td>TCP</td>\n",
       "    </tr>\n",
       "    <tr>\n",
       "      <th>3</th>\n",
       "      <td>1240757</td>\n",
       "      <td>udp</td>\n",
       "      <td>192.168.100.150</td>\n",
       "      <td>48719</td>\n",
       "      <td>192.168.100.3</td>\n",
       "      <td>80</td>\n",
       "      <td>99168</td>\n",
       "      <td>1.823185</td>\n",
       "      <td>63</td>\n",
       "      <td>0.000000</td>\n",
       "      <td>4</td>\n",
       "      <td>3.222832</td>\n",
       "      <td>63</td>\n",
       "      <td>0.0</td>\n",
       "      <td>0.461435</td>\n",
       "      <td>4.942302</td>\n",
       "      <td>1</td>\n",
       "      <td>DoS</td>\n",
       "      <td>UDP</td>\n",
       "    </tr>\n",
       "    <tr>\n",
       "      <th>4</th>\n",
       "      <td>3257991</td>\n",
       "      <td>udp</td>\n",
       "      <td>192.168.100.147</td>\n",
       "      <td>22461</td>\n",
       "      <td>192.168.100.3</td>\n",
       "      <td>80</td>\n",
       "      <td>105063</td>\n",
       "      <td>0.822418</td>\n",
       "      <td>100</td>\n",
       "      <td>2.979995</td>\n",
       "      <td>4</td>\n",
       "      <td>3.983222</td>\n",
       "      <td>100</td>\n",
       "      <td>0.0</td>\n",
       "      <td>1.002999</td>\n",
       "      <td>4.994452</td>\n",
       "      <td>1</td>\n",
       "      <td>DDoS</td>\n",
       "      <td>UDP</td>\n",
       "    </tr>\n",
       "  </tbody>\n",
       "</table>\n",
       "</div>"
      ],
      "text/plain": [
       "   pkSeqID proto            saddr  sport          daddr dport     seq  \\\n",
       "0  3142762   udp  192.168.100.150   6551  192.168.100.3    80  251984   \n",
       "1  2432264   tcp  192.168.100.150   5532  192.168.100.3    80  256724   \n",
       "2  1976315   tcp  192.168.100.147  27165  192.168.100.3    80   62921   \n",
       "3  1240757   udp  192.168.100.150  48719  192.168.100.3    80   99168   \n",
       "4  3257991   udp  192.168.100.147  22461  192.168.100.3    80  105063   \n",
       "\n",
       "     stddev  N_IN_Conn_P_SrcIP       min  state_number      mean  \\\n",
       "0  1.900363                100  0.000000             4  2.687519   \n",
       "1  0.078003                 38  3.856930             3  3.934927   \n",
       "2  0.268666                100  2.974100             3  3.341429   \n",
       "3  1.823185                 63  0.000000             4  3.222832   \n",
       "4  0.822418                100  2.979995             4  3.983222   \n",
       "\n",
       "   N_IN_Conn_P_DstIP  drate     srate       max  attack category subcategory  \n",
       "0                100    0.0  0.494549  4.031619       1     DDoS         UDP  \n",
       "1                100    0.0  0.256493  4.012924       1     DDoS         TCP  \n",
       "2                100    0.0  0.294880  3.609205       1     DDoS         TCP  \n",
       "3                 63    0.0  0.461435  4.942302       1      DoS         UDP  \n",
       "4                100    0.0  1.002999  4.994452       1     DDoS         UDP  "
      ]
     },
     "execution_count": 60,
     "metadata": {},
     "output_type": "execute_result"
    }
   ],
   "source": [
    "# Training Dataset\n",
    "df = pd.read_csv(\"UNSW_2018_IoT_Botnet_Final_10_best_Training.csv\")\n",
    "df.head()"
   ]
  },
  {
   "cell_type": "code",
   "execution_count": 61,
   "metadata": {
    "colab": {
     "base_uri": "https://localhost:8080/"
    },
    "id": "fVPGw0bNXTdI",
    "outputId": "d9bd6e1a-9f62-4090-c90e-499172b5c0fc"
   },
   "outputs": [
    {
     "data": {
      "text/plain": [
       "(2934817, 19)"
      ]
     },
     "execution_count": 61,
     "metadata": {},
     "output_type": "execute_result"
    }
   ],
   "source": [
    "df.shape"
   ]
  },
  {
   "cell_type": "code",
   "execution_count": 62,
   "metadata": {
    "colab": {
     "base_uri": "https://localhost:8080/"
    },
    "id": "sjyTFQmjXaIb",
    "outputId": "e55969a1-eb15-4753-b342-dad2f135faab"
   },
   "outputs": [
    {
     "data": {
      "text/plain": [
       "pkSeqID                int64\n",
       "proto                 object\n",
       "saddr                 object\n",
       "sport                 object\n",
       "daddr                 object\n",
       "dport                 object\n",
       "seq                    int64\n",
       "stddev               float64\n",
       "N_IN_Conn_P_SrcIP      int64\n",
       "min                  float64\n",
       "state_number           int64\n",
       "mean                 float64\n",
       "N_IN_Conn_P_DstIP      int64\n",
       "drate                float64\n",
       "srate                float64\n",
       "max                  float64\n",
       "attack                 int64\n",
       "category              object\n",
       "subcategory           object\n",
       "dtype: object"
      ]
     },
     "execution_count": 62,
     "metadata": {},
     "output_type": "execute_result"
    }
   ],
   "source": [
    "df.dtypes"
   ]
  },
  {
   "cell_type": "code",
   "execution_count": 63,
   "metadata": {
    "colab": {
     "base_uri": "https://localhost:8080/"
    },
    "id": "dXlI_nAgW4a6",
    "outputId": "621649e3-9094-49bb-cf26-5ece7afd14de"
   },
   "outputs": [
    {
     "name": "stdout",
     "output_type": "stream",
     "text": [
      "<class 'pandas.core.frame.DataFrame'>\n",
      "RangeIndex: 2934817 entries, 0 to 2934816\n",
      "Data columns (total 19 columns):\n",
      " #   Column             Dtype  \n",
      "---  ------             -----  \n",
      " 0   pkSeqID            int64  \n",
      " 1   proto              object \n",
      " 2   saddr              object \n",
      " 3   sport              object \n",
      " 4   daddr              object \n",
      " 5   dport              object \n",
      " 6   seq                int64  \n",
      " 7   stddev             float64\n",
      " 8   N_IN_Conn_P_SrcIP  int64  \n",
      " 9   min                float64\n",
      " 10  state_number       int64  \n",
      " 11  mean               float64\n",
      " 12  N_IN_Conn_P_DstIP  int64  \n",
      " 13  drate              float64\n",
      " 14  srate              float64\n",
      " 15  max                float64\n",
      " 16  attack             int64  \n",
      " 17  category           object \n",
      " 18  subcategory        object \n",
      "dtypes: float64(6), int64(6), object(7)\n",
      "memory usage: 425.4+ MB\n"
     ]
    }
   ],
   "source": [
    "# General Information about the data\n",
    "df.info()"
   ]
  },
  {
   "cell_type": "markdown",
   "metadata": {
    "id": "Cv_bqAbsW4a6"
   },
   "source": [
    "## Exploratory Data Analysis"
   ]
  },
  {
   "cell_type": "code",
   "execution_count": 64,
   "metadata": {
    "colab": {
     "base_uri": "https://localhost:8080/",
     "height": 364
    },
    "id": "WzHEiZ0EW4a6",
    "outputId": "c4f02106-3f49-400a-afad-8b29ae41bb95"
   },
   "outputs": [
    {
     "data": {
      "text/html": [
       "<div>\n",
       "<style scoped>\n",
       "    .dataframe tbody tr th:only-of-type {\n",
       "        vertical-align: middle;\n",
       "    }\n",
       "\n",
       "    .dataframe tbody tr th {\n",
       "        vertical-align: top;\n",
       "    }\n",
       "\n",
       "    .dataframe thead th {\n",
       "        text-align: right;\n",
       "    }\n",
       "</style>\n",
       "<table border=\"1\" class=\"dataframe\">\n",
       "  <thead>\n",
       "    <tr style=\"text-align: right;\">\n",
       "      <th></th>\n",
       "      <th>pkSeqID</th>\n",
       "      <th>seq</th>\n",
       "      <th>stddev</th>\n",
       "      <th>N_IN_Conn_P_SrcIP</th>\n",
       "      <th>min</th>\n",
       "      <th>state_number</th>\n",
       "      <th>mean</th>\n",
       "      <th>N_IN_Conn_P_DstIP</th>\n",
       "      <th>drate</th>\n",
       "      <th>srate</th>\n",
       "      <th>max</th>\n",
       "      <th>attack</th>\n",
       "    </tr>\n",
       "  </thead>\n",
       "  <tbody>\n",
       "    <tr>\n",
       "      <th>count</th>\n",
       "      <td>2.934817e+06</td>\n",
       "      <td>2.934817e+06</td>\n",
       "      <td>2.934817e+06</td>\n",
       "      <td>2.934817e+06</td>\n",
       "      <td>2.934817e+06</td>\n",
       "      <td>2.934817e+06</td>\n",
       "      <td>2.934817e+06</td>\n",
       "      <td>2.934817e+06</td>\n",
       "      <td>2.934817e+06</td>\n",
       "      <td>2.934817e+06</td>\n",
       "      <td>2.934817e+06</td>\n",
       "      <td>2.934817e+06</td>\n",
       "    </tr>\n",
       "    <tr>\n",
       "      <th>mean</th>\n",
       "      <td>1.834209e+06</td>\n",
       "      <td>1.212973e+05</td>\n",
       "      <td>8.869639e-01</td>\n",
       "      <td>8.254997e+01</td>\n",
       "      <td>1.017208e+00</td>\n",
       "      <td>3.134219e+00</td>\n",
       "      <td>2.230471e+00</td>\n",
       "      <td>9.245766e+01</td>\n",
       "      <td>4.303064e-01</td>\n",
       "      <td>3.128290e+00</td>\n",
       "      <td>3.019269e+00</td>\n",
       "      <td>9.998739e-01</td>\n",
       "    </tr>\n",
       "    <tr>\n",
       "      <th>std</th>\n",
       "      <td>1.059058e+06</td>\n",
       "      <td>7.578700e+04</td>\n",
       "      <td>8.036391e-01</td>\n",
       "      <td>2.439019e+01</td>\n",
       "      <td>1.483551e+00</td>\n",
       "      <td>1.187107e+00</td>\n",
       "      <td>1.517766e+00</td>\n",
       "      <td>1.816651e+01</td>\n",
       "      <td>5.623304e+01</td>\n",
       "      <td>7.845494e+02</td>\n",
       "      <td>1.860915e+00</td>\n",
       "      <td>1.122750e-02</td>\n",
       "    </tr>\n",
       "    <tr>\n",
       "      <th>min</th>\n",
       "      <td>1.000000e+00</td>\n",
       "      <td>1.000000e+00</td>\n",
       "      <td>0.000000e+00</td>\n",
       "      <td>1.000000e+00</td>\n",
       "      <td>0.000000e+00</td>\n",
       "      <td>1.000000e+00</td>\n",
       "      <td>0.000000e+00</td>\n",
       "      <td>1.000000e+00</td>\n",
       "      <td>0.000000e+00</td>\n",
       "      <td>0.000000e+00</td>\n",
       "      <td>0.000000e+00</td>\n",
       "      <td>0.000000e+00</td>\n",
       "    </tr>\n",
       "    <tr>\n",
       "      <th>25%</th>\n",
       "      <td>9.171090e+05</td>\n",
       "      <td>5.484700e+04</td>\n",
       "      <td>2.999700e-02</td>\n",
       "      <td>6.900000e+01</td>\n",
       "      <td>0.000000e+00</td>\n",
       "      <td>3.000000e+00</td>\n",
       "      <td>1.819340e-01</td>\n",
       "      <td>1.000000e+02</td>\n",
       "      <td>0.000000e+00</td>\n",
       "      <td>1.558450e-01</td>\n",
       "      <td>2.804170e-01</td>\n",
       "      <td>1.000000e+00</td>\n",
       "    </tr>\n",
       "    <tr>\n",
       "      <th>50%</th>\n",
       "      <td>1.834316e+06</td>\n",
       "      <td>1.177370e+05</td>\n",
       "      <td>7.925750e-01</td>\n",
       "      <td>1.000000e+02</td>\n",
       "      <td>0.000000e+00</td>\n",
       "      <td>4.000000e+00</td>\n",
       "      <td>2.689973e+00</td>\n",
       "      <td>1.000000e+02</td>\n",
       "      <td>0.000000e+00</td>\n",
       "      <td>2.837800e-01</td>\n",
       "      <td>4.008429e+00</td>\n",
       "      <td>1.000000e+00</td>\n",
       "    </tr>\n",
       "    <tr>\n",
       "      <th>75%</th>\n",
       "      <td>2.751250e+06</td>\n",
       "      <td>1.848700e+05</td>\n",
       "      <td>1.745220e+00</td>\n",
       "      <td>1.000000e+02</td>\n",
       "      <td>2.147949e+00</td>\n",
       "      <td>4.000000e+00</td>\n",
       "      <td>3.565061e+00</td>\n",
       "      <td>1.000000e+02</td>\n",
       "      <td>0.000000e+00</td>\n",
       "      <td>4.880000e-01</td>\n",
       "      <td>4.292426e+00</td>\n",
       "      <td>1.000000e+00</td>\n",
       "    </tr>\n",
       "    <tr>\n",
       "      <th>max</th>\n",
       "      <td>3.668522e+06</td>\n",
       "      <td>2.622110e+05</td>\n",
       "      <td>2.496763e+00</td>\n",
       "      <td>1.000000e+02</td>\n",
       "      <td>4.980471e+00</td>\n",
       "      <td>1.100000e+01</td>\n",
       "      <td>4.981882e+00</td>\n",
       "      <td>1.000000e+02</td>\n",
       "      <td>5.882353e+04</td>\n",
       "      <td>1.000000e+06</td>\n",
       "      <td>4.999999e+00</td>\n",
       "      <td>1.000000e+00</td>\n",
       "    </tr>\n",
       "  </tbody>\n",
       "</table>\n",
       "</div>"
      ],
      "text/plain": [
       "            pkSeqID           seq        stddev  N_IN_Conn_P_SrcIP  \\\n",
       "count  2.934817e+06  2.934817e+06  2.934817e+06       2.934817e+06   \n",
       "mean   1.834209e+06  1.212973e+05  8.869639e-01       8.254997e+01   \n",
       "std    1.059058e+06  7.578700e+04  8.036391e-01       2.439019e+01   \n",
       "min    1.000000e+00  1.000000e+00  0.000000e+00       1.000000e+00   \n",
       "25%    9.171090e+05  5.484700e+04  2.999700e-02       6.900000e+01   \n",
       "50%    1.834316e+06  1.177370e+05  7.925750e-01       1.000000e+02   \n",
       "75%    2.751250e+06  1.848700e+05  1.745220e+00       1.000000e+02   \n",
       "max    3.668522e+06  2.622110e+05  2.496763e+00       1.000000e+02   \n",
       "\n",
       "                min  state_number          mean  N_IN_Conn_P_DstIP  \\\n",
       "count  2.934817e+06  2.934817e+06  2.934817e+06       2.934817e+06   \n",
       "mean   1.017208e+00  3.134219e+00  2.230471e+00       9.245766e+01   \n",
       "std    1.483551e+00  1.187107e+00  1.517766e+00       1.816651e+01   \n",
       "min    0.000000e+00  1.000000e+00  0.000000e+00       1.000000e+00   \n",
       "25%    0.000000e+00  3.000000e+00  1.819340e-01       1.000000e+02   \n",
       "50%    0.000000e+00  4.000000e+00  2.689973e+00       1.000000e+02   \n",
       "75%    2.147949e+00  4.000000e+00  3.565061e+00       1.000000e+02   \n",
       "max    4.980471e+00  1.100000e+01  4.981882e+00       1.000000e+02   \n",
       "\n",
       "              drate         srate           max        attack  \n",
       "count  2.934817e+06  2.934817e+06  2.934817e+06  2.934817e+06  \n",
       "mean   4.303064e-01  3.128290e+00  3.019269e+00  9.998739e-01  \n",
       "std    5.623304e+01  7.845494e+02  1.860915e+00  1.122750e-02  \n",
       "min    0.000000e+00  0.000000e+00  0.000000e+00  0.000000e+00  \n",
       "25%    0.000000e+00  1.558450e-01  2.804170e-01  1.000000e+00  \n",
       "50%    0.000000e+00  2.837800e-01  4.008429e+00  1.000000e+00  \n",
       "75%    0.000000e+00  4.880000e-01  4.292426e+00  1.000000e+00  \n",
       "max    5.882353e+04  1.000000e+06  4.999999e+00  1.000000e+00  "
      ]
     },
     "execution_count": 64,
     "metadata": {},
     "output_type": "execute_result"
    }
   ],
   "source": [
    "df.describe()"
   ]
  },
  {
   "cell_type": "code",
   "execution_count": 65,
   "metadata": {
    "colab": {
     "base_uri": "https://localhost:8080/"
    },
    "id": "5REjroNQXlo4",
    "outputId": "0befea89-1e32-46e6-8195-cae3883b2ae2"
   },
   "outputs": [
    {
     "data": {
      "text/plain": [
       "pkSeqID              0\n",
       "proto                0\n",
       "saddr                0\n",
       "sport                0\n",
       "daddr                0\n",
       "dport                0\n",
       "seq                  0\n",
       "stddev               0\n",
       "N_IN_Conn_P_SrcIP    0\n",
       "min                  0\n",
       "state_number         0\n",
       "mean                 0\n",
       "N_IN_Conn_P_DstIP    0\n",
       "drate                0\n",
       "srate                0\n",
       "max                  0\n",
       "attack               0\n",
       "category             0\n",
       "subcategory          0\n",
       "dtype: int64"
      ]
     },
     "execution_count": 65,
     "metadata": {},
     "output_type": "execute_result"
    }
   ],
   "source": [
    "df.isnull().sum()"
   ]
  },
  {
   "cell_type": "code",
   "execution_count": 66,
   "metadata": {
    "id": "q08zkDAimWbn"
   },
   "outputs": [],
   "source": [
    "df=df.dropna()"
   ]
  },
  {
   "cell_type": "code",
   "execution_count": 67,
   "metadata": {
    "colab": {
     "base_uri": "https://localhost:8080/"
    },
    "id": "UnC0CtUJW4a7",
    "outputId": "281752f8-3e8c-4ecf-ba1f-39c59b0edf4d"
   },
   "outputs": [
    {
     "data": {
      "text/plain": [
       "udp          1596819\n",
       "tcp          1330598\n",
       "icmp            7228\n",
       "arp              166\n",
       "ipv6-icmp          6\n",
       "Name: proto, dtype: int64"
      ]
     },
     "execution_count": 67,
     "metadata": {},
     "output_type": "execute_result"
    }
   ],
   "source": [
    "df[\"proto\"].value_counts()"
   ]
  },
  {
   "cell_type": "code",
   "execution_count": 68,
   "metadata": {
    "colab": {
     "base_uri": "https://localhost:8080/"
    },
    "id": "l7EhmfUOW4a7",
    "outputId": "0aa34c64-93fb-4e5b-dad2-877d86b19e5c"
   },
   "outputs": [
    {
     "data": {
      "text/plain": [
       "192.168.100.147              761360\n",
       "192.168.100.148              738642\n",
       "192.168.100.150              712260\n",
       "192.168.100.149              711466\n",
       "192.168.100.3                  6609\n",
       "192.168.100.5                  4107\n",
       "192.168.100.6                   272\n",
       "192.168.100.7                    34\n",
       "192.168.100.4                    17\n",
       "192.168.100.1                    14\n",
       "192.168.100.27                    9\n",
       "192.168.100.46                    8\n",
       "fe80::250:56ff:febe:254           5\n",
       "192.168.100.55                    3\n",
       "fe80::2c6a:ff9b:7e14:166a         2\n",
       "fe80::250:56ff:febe:c038          2\n",
       "fe80::c0c0:aa20:45b9:bdd9         2\n",
       "fe80::250:56ff:febe:89ee          2\n",
       "fe80::250:56ff:febe:26db          2\n",
       "fe80::250:56ff:febe:e9d9          1\n",
       "Name: saddr, dtype: int64"
      ]
     },
     "execution_count": 68,
     "metadata": {},
     "output_type": "execute_result"
    }
   ],
   "source": [
    "df[\"saddr\"].value_counts()"
   ]
  },
  {
   "cell_type": "code",
   "execution_count": 69,
   "metadata": {
    "colab": {
     "base_uri": "https://localhost:8080/"
    },
    "id": "VTEYL0IFW4a7",
    "outputId": "57d82aa8-0149-48c3-f34f-87d936868a57"
   },
   "outputs": [
    {
     "data": {
      "text/plain": [
       "0x0303    7156\n",
       "80        3220\n",
       "1822       878\n",
       "60541      869\n",
       "1216       868\n",
       "          ... \n",
       "39364       31\n",
       "18992       30\n",
       "39305       30\n",
       "0x000d      10\n",
       "0x0011       8\n",
       "Name: sport, Length: 65541, dtype: int64"
      ]
     },
     "execution_count": 69,
     "metadata": {},
     "output_type": "execute_result"
    }
   ],
   "source": [
    "df[\"sport\"].value_counts()"
   ]
  },
  {
   "cell_type": "code",
   "execution_count": 70,
   "metadata": {
    "colab": {
     "base_uri": "https://localhost:8080/"
    },
    "id": "XAOadt8nW4a8",
    "outputId": "a6c45fe6-4cc4-430f-dccc-12613c7b3bb2"
   },
   "outputs": [
    {
     "data": {
      "text/plain": [
       "192.168.100.3      1900562\n",
       "192.168.100.5       361192\n",
       "192.168.100.7       332161\n",
       "192.168.100.6       329679\n",
       "192.168.100.150       3040\n",
       "                    ...   \n",
       "205.251.199.148          1\n",
       "192.33.14.30             1\n",
       "192.55.83.30             1\n",
       "205.251.194.201          1\n",
       "205.251.198.119          1\n",
       "Name: daddr, Length: 81, dtype: int64"
      ]
     },
     "execution_count": 70,
     "metadata": {},
     "output_type": "execute_result"
    }
   ],
   "source": [
    "df[\"daddr\"].value_counts()"
   ]
  },
  {
   "cell_type": "code",
   "execution_count": 71,
   "metadata": {
    "colab": {
     "base_uri": "https://localhost:8080/"
    },
    "id": "4Cwps3RdW4a8",
    "outputId": "ba93c3e8-eae7-4362-d0c3-39a072eb4916"
   },
   "outputs": [
    {
     "data": {
      "text/plain": [
       "80       2858794\n",
       "1           5379\n",
       "3306        3757\n",
       "53           275\n",
       "-1           166\n",
       "          ...   \n",
       "40344          1\n",
       "3754           1\n",
       "6459           1\n",
       "26822          1\n",
       "61804          1\n",
       "Name: dport, Length: 6906, dtype: int64"
      ]
     },
     "execution_count": 71,
     "metadata": {},
     "output_type": "execute_result"
    }
   ],
   "source": [
    "df[\"dport\"].value_counts()"
   ]
  },
  {
   "cell_type": "code",
   "execution_count": 72,
   "metadata": {
    "colab": {
     "base_uri": "https://localhost:8080/"
    },
    "id": "YFzdm8HgW4a8",
    "outputId": "62fd58ff-b2f4-498f-f623-007099177406"
   },
   "outputs": [
    {
     "data": {
      "text/plain": [
       "DDoS              1541315\n",
       "DoS               1320148\n",
       "Reconnaissance      72919\n",
       "Normal                370\n",
       "Theft                  65\n",
       "Name: category, dtype: int64"
      ]
     },
     "execution_count": 72,
     "metadata": {},
     "output_type": "execute_result"
    }
   ],
   "source": [
    "df[\"category\"].value_counts()"
   ]
  },
  {
   "cell_type": "code",
   "execution_count": 73,
   "metadata": {
    "colab": {
     "base_uri": "https://localhost:8080/"
    },
    "id": "5S_vKFztW4a8",
    "outputId": "e1ec21cf-1989-4d4a-eedd-659f23933c8c"
   },
   "outputs": [
    {
     "data": {
      "text/plain": [
       "1    2934447\n",
       "0        370\n",
       "Name: attack, dtype: int64"
      ]
     },
     "execution_count": 73,
     "metadata": {},
     "output_type": "execute_result"
    }
   ],
   "source": [
    "df[\"attack\"].value_counts()"
   ]
  },
  {
   "cell_type": "code",
   "execution_count": 74,
   "metadata": {
    "colab": {
     "base_uri": "https://localhost:8080/"
    },
    "id": "sU7zmPSNW4a8",
    "outputId": "6aaabdd1-cbc1-4b8c-844d-b875a5df0048"
   },
   "outputs": [
    {
     "data": {
      "text/plain": [
       "UDP                  1584650\n",
       "TCP                  1274843\n",
       "Service_Scan           58626\n",
       "OS_Fingerprint         14293\n",
       "HTTP                    1970\n",
       "Normal                   370\n",
       "Keylogging                59\n",
       "Data_Exfiltration          6\n",
       "Name: subcategory, dtype: int64"
      ]
     },
     "execution_count": 74,
     "metadata": {},
     "output_type": "execute_result"
    }
   ],
   "source": [
    "df[\"subcategory\"].value_counts()"
   ]
  },
  {
   "cell_type": "code",
   "execution_count": 75,
   "metadata": {
    "colab": {
     "base_uri": "https://localhost:8080/",
     "height": 396
    },
    "id": "LRKgopc6YpoA",
    "outputId": "c7649e7a-f086-487a-cae3-835584dec48a"
   },
   "outputs": [
    {
     "data": {
      "image/png": "[encoded data removed]",
      "text/plain": [
       "<Figure size 2000x1000 with 6 Axes>"
      ]
     },
     "metadata": {},
     "output_type": "display_data"
    }
   ],
   "source": [
    "def boxplots_custom(dataset, columns_list, rows, cols, suptitle):\n",
    "    fig, axs = plt.subplots(rows, cols, sharey=True, figsize=(20,10))\n",
    "    fig.suptitle(suptitle,y=1, size=25)\n",
    "    axs = axs.flatten()\n",
    "    for i, data in enumerate(columns_list):\n",
    "        sns.boxplot(data=dataset[data], orient='h', ax=axs[i])\n",
    "        axs[i].set_title(data + ', skewness is: '+str(round(dataset[data].skew(axis = 0, skipna = True),2)))\n",
    "\n",
    "cols_to_plot=['seq','stddev', 'min', 'state_number', 'mean', 'max']\n",
    "boxplots_custom(dataset=df, columns_list=cols_to_plot, rows=3, cols=2, suptitle='Boxplots for each variable')"
   ]
  },
  {
   "cell_type": "markdown",
   "metadata": {
    "id": "WaMIaVjPW4a9"
   },
   "source": [
    "### 10 Best Features according to A Review and Analysis of BoT Iot Dataset"
   ]
  },
  {
   "cell_type": "code",
   "execution_count": 76,
   "metadata": {
    "id": "Xo74JnESW4a9"
   },
   "outputs": [],
   "source": [
    "ten_best_features = df[['seq','stddev','N_IN_Conn_P_SrcIP', 'min', 'state_number', 'mean', 'N_IN_Conn_P_DstIP',\n",
    "       'drate', 'srate', 'max']]\n",
    "target_features = df[['attack','category','subcategory']]"
   ]
  },
  {
   "cell_type": "markdown",
   "metadata": {
    "id": "3ggT7F3PdpiO"
   },
   "source": [
    "\n",
    "\n",
    "1.   seq-Argus Sequence Number\n",
    "2.   stddev-standard deviation\n",
    "3.   N_IN_Conn_P_SrcIP - Number of inbound connections per source IP\n",
    "4.   min- Minimum duration of aggregated records\n",
    "5.   state_number - Transaction State\n",
    "6.   mean - Average duration of Aggregated records\n",
    "7.   N_IN_Conn_P_DstIP- Number of inbound connections per destination IP\n",
    "8.   drate - Rate at which the destination packets are transmitted to source\n",
    "9.   srate - Rate at which the source packets are transmitted to destination\n",
    "10.  max- Maximum duration of Aggregated records\n",
    "\n"
   ]
  },
  {
   "cell_type": "code",
   "execution_count": 77,
   "metadata": {
    "colab": {
     "base_uri": "https://localhost:8080/"
    },
    "id": "3X5B8EZ6aMh_",
    "outputId": "8f526395-dbd3-4377-feb7-a533174593e9"
   },
   "outputs": [
    {
     "data": {
      "text/plain": [
       "seq                    int64\n",
       "stddev               float64\n",
       "N_IN_Conn_P_SrcIP      int64\n",
       "min                  float64\n",
       "state_number           int64\n",
       "mean                 float64\n",
       "N_IN_Conn_P_DstIP      int64\n",
       "drate                float64\n",
       "srate                float64\n",
       "max                  float64\n",
       "dtype: object"
      ]
     },
     "execution_count": 77,
     "metadata": {},
     "output_type": "execute_result"
    }
   ],
   "source": [
    "ten_best_features.dtypes"
   ]
  },
  {
   "cell_type": "markdown",
   "metadata": {
    "id": "JoZoX-bjW4a9"
   },
   "source": [
    "## Data Preprocessing"
   ]
  },
  {
   "cell_type": "code",
   "execution_count": 78,
   "metadata": {
    "colab": {
     "base_uri": "https://localhost:8080/",
     "height": 206
    },
    "id": "lrB3uXXmW4a9",
    "outputId": "2adaf977-4b7e-4677-b62f-31f65bce3125"
   },
   "outputs": [
    {
     "data": {
      "text/html": [
       "<div>\n",
       "<style scoped>\n",
       "    .dataframe tbody tr th:only-of-type {\n",
       "        vertical-align: middle;\n",
       "    }\n",
       "\n",
       "    .dataframe tbody tr th {\n",
       "        vertical-align: top;\n",
       "    }\n",
       "\n",
       "    .dataframe thead th {\n",
       "        text-align: right;\n",
       "    }\n",
       "</style>\n",
       "<table border=\"1\" class=\"dataframe\">\n",
       "  <thead>\n",
       "    <tr style=\"text-align: right;\">\n",
       "      <th></th>\n",
       "      <th>attack</th>\n",
       "      <th>category</th>\n",
       "      <th>subcategory</th>\n",
       "    </tr>\n",
       "  </thead>\n",
       "  <tbody>\n",
       "    <tr>\n",
       "      <th>0</th>\n",
       "      <td>1</td>\n",
       "      <td>0</td>\n",
       "      <td>7</td>\n",
       "    </tr>\n",
       "    <tr>\n",
       "      <th>1</th>\n",
       "      <td>1</td>\n",
       "      <td>0</td>\n",
       "      <td>6</td>\n",
       "    </tr>\n",
       "    <tr>\n",
       "      <th>2</th>\n",
       "      <td>1</td>\n",
       "      <td>0</td>\n",
       "      <td>6</td>\n",
       "    </tr>\n",
       "    <tr>\n",
       "      <th>3</th>\n",
       "      <td>1</td>\n",
       "      <td>1</td>\n",
       "      <td>7</td>\n",
       "    </tr>\n",
       "    <tr>\n",
       "      <th>4</th>\n",
       "      <td>1</td>\n",
       "      <td>0</td>\n",
       "      <td>7</td>\n",
       "    </tr>\n",
       "  </tbody>\n",
       "</table>\n",
       "</div>"
      ],
      "text/plain": [
       "   attack  category  subcategory\n",
       "0       1         0            7\n",
       "1       1         0            6\n",
       "2       1         0            6\n",
       "3       1         1            7\n",
       "4       1         0            7"
      ]
     },
     "execution_count": 78,
     "metadata": {},
     "output_type": "execute_result"
    }
   ],
   "source": [
    "# Label Encoding the target columns\n",
    "le = LabelEncoder()\n",
    "target_features['category'] = le.fit_transform(target_features['category'])\n",
    "target_features['subcategory'] = le.fit_transform(target_features['subcategory'])\n",
    "\n",
    "target_features.head()"
   ]
  },
  {
   "cell_type": "code",
   "execution_count": 79,
   "metadata": {
    "id": "do4mqveiiRgr"
   },
   "outputs": [],
   "source": [
    "# Train-test Split\n",
    "X_train, X_test, y_train, y_test = train_test_split(ten_best_features,target_features)"
   ]
  },
  {
   "cell_type": "code",
   "execution_count": 80,
   "metadata": {
    "id": "zTqyy6QuW4a9"
   },
   "outputs": [],
   "source": [
    "# Scaling the data\n",
    "sc = StandardScaler()\n",
    "X_train = sc.fit_transform(X_train)\n",
    "X_test = sc.transform(X_test)"
   ]
  },
  {
   "cell_type": "code",
   "execution_count": 81,
   "metadata": {
    "colab": {
     "base_uri": "https://localhost:8080/"
    },
    "id": "ZyL68fzEjufE",
    "outputId": "49d5373b-a4e2-48d3-be21-3d4fe8a8ae9a"
   },
   "outputs": [
    {
     "name": "stdout",
     "output_type": "stream",
     "text": [
      "2201112\n"
     ]
    }
   ],
   "source": [
    "count=0\n",
    "for i in X_train:\n",
    "    if i=='Nan' or 'nan' or 'NAN' or 'NaN':\n",
    "        count+=1\n",
    "print(count)"
   ]
  },
  {
   "cell_type": "markdown",
   "metadata": {
    "id": "hZMqnmoxW4a9"
   },
   "source": [
    "## Defining the ML Model Classes"
   ]
  },
  {
   "cell_type": "code",
   "execution_count": 82,
   "metadata": {
    "id": "QBtNH-okW4a-"
   },
   "outputs": [],
   "source": [
    "class RandomForest:\n",
    "    def __init__(self,max_depth):\n",
    "        self.rfc_attack = RandomForestClassifier(max_depth=max_depth)\n",
    "        self.rfc_category = RandomForestClassifier(max_depth=max_depth)\n",
    "        self.rfc_subcategory = RandomForestClassifier(max_depth=max_depth)\n",
    "\n",
    "    def fit(self,X_train,y_train):\n",
    "        self.rfc_attack.fit(X_train,y_train['attack'])\n",
    "\n",
    "        features_category = np.concatenate((X_train,np.array(y_train['attack']).reshape(-1,1)),axis=1)\n",
    "        self.rfc_category.fit(features_category,y_train['category'])\n",
    "\n",
    "        features_subcategory = np.concatenate((features_category,np.array(y_train['category']).reshape(-1,1)),axis=1)\n",
    "        self.rfc_subcategory.fit(features_subcategory,y_train['subcategory'])\n",
    "\n",
    "    def predict(self,X_test):\n",
    "        predict_attack = self.rfc_attack.predict(X_test)\n",
    "\n",
    "        test_category = np.concatenate((X_test,predict_attack.reshape(-1,1)),axis=1)\n",
    "        predict_category = self.rfc_category.predict(test_category)\n",
    "\n",
    "        test_subcategory = np.concatenate((test_category,predict_category.reshape(-1,1)),axis=1)\n",
    "        predict_subcategory = self.rfc_subcategory.predict(test_subcategory)\n",
    "\n",
    "        return pd.DataFrame({'attack':predict_attack,'category':predict_category,'subcategory':predict_subcategory})"
   ]
  },
  {
   "cell_type": "code",
   "execution_count": 83,
   "metadata": {
    "id": "vfYA4j0lW4a-"
   },
   "outputs": [],
   "source": [
    "class DecisionTree:\n",
    "    def __init__(self,criterion,max_depth=5):\n",
    "        self.dtree_attack = DecisionTreeClassifier(criterion=criterion,max_depth=max_depth)\n",
    "        self.dtree_category = DecisionTreeClassifier(criterion=criterion,max_depth=max_depth)\n",
    "        self.dtree_subcategory = DecisionTreeClassifier(criterion=criterion,max_depth=max_depth)\n",
    "\n",
    "    def fit(self,X_train,y_train):\n",
    "        self.dtree_attack.fit(X_train,y_train['attack'])\n",
    "\n",
    "        features_category = np.concatenate((X_train,np.array(y_train['attack']).reshape(-1,1)),axis=1)\n",
    "        self.dtree_category.fit(features_category,y_train['category'])\n",
    "\n",
    "        features_subcategory = np.concatenate((features_category,np.array(y_train['category']).reshape(-1,1)),axis=1)\n",
    "        self.dtree_subcategory.fit(features_subcategory,y_train['subcategory'])\n",
    "\n",
    "    def predict(self,X_test):\n",
    "        predict_attack = self.dtree_attack.predict(X_test)\n",
    "\n",
    "        test_category = np.concatenate((X_test,predict_attack.reshape(-1,1)),axis=1)\n",
    "        predict_category = self.dtree_category.predict(test_category)\n",
    "\n",
    "        test_subcategory = np.concatenate((test_category,predict_category.reshape(-1,1)),axis=1)\n",
    "        predict_subcategory = self.dtree_subcategory.predict(test_subcategory)\n",
    "\n",
    "        return pd.DataFrame({'attack':predict_attack,'category':predict_category,'subcategory':predict_subcategory})"
   ]
  },
  {
   "cell_type": "markdown",
   "metadata": {
    "id": "HcZQJzijjVP7"
   },
   "source": [
    "XGBoost is also a boosting machine learning algorithm, which is the next version on top of the gradient boosting algorithm. The full name of the XGBoost algorithm is the eXtreme Gradient Boosting algorithm, as the name suggests it is an extreme version of the previous gradient boosting algorithm.\n",
    "\n",
    "The main difference between GradientBoosting is XGBoost is that XGbost uses a regularization technique in it. In simple words, it is a regularized form of the existing gradient-boosting algorithm.\n",
    "\n",
    "Due to this, XGBoost performs better than a normal gradient boosting algorithm and that is why it is much faster than that also. It also performs better when there is a presence of numerical and categorical features in the dataset."
   ]
  },
  {
   "cell_type": "code",
   "execution_count": 84,
   "metadata": {
    "id": "JMhD1KqhW4a-"
   },
   "outputs": [],
   "source": [
    "class GradientBoost:\n",
    "    def __init__(self):\n",
    "        self.xgb_attack = XGBClassifier()\n",
    "        self.xgb_category = XGBClassifier()\n",
    "        self.xgb_subcategory = XGBClassifier()\n",
    "\n",
    "    def fit(self,X_train,y_train):\n",
    "        self.xgb_attack.fit(X_train,y_train['attack'])\n",
    "\n",
    "        features_category = np.concatenate((X_train,np.array(y_train['attack']).reshape(-1,1)),axis=1)\n",
    "        self.xgb_category.fit(features_category,y_train['category'])\n",
    "\n",
    "        features_subcategory = np.concatenate((features_category,np.array(y_train['category']).reshape(-1,1)),axis=1)\n",
    "        self.xgb_subcategory.fit(features_subcategory,y_train['subcategory'])\n",
    "\n",
    "    def predict(self,X_test):\n",
    "        predict_attack = self.xgb_attack.predict(X_test)\n",
    "\n",
    "        test_category = np.concatenate((X_test,predict_attack.reshape(-1,1)),axis=1)\n",
    "        predict_category = self.xgb_category.predict(test_category)\n",
    "\n",
    "        test_subcategory = np.concatenate((test_category,predict_category.reshape(-1,1)),axis=1)\n",
    "        predict_subcategory = self.xgb_subcategory.predict(test_subcategory)\n",
    "\n",
    "        return pd.DataFrame({'attack':predict_attack,'category':predict_category,'subcategory':predict_subcategory})"
   ]
  },
  {
   "cell_type": "markdown",
   "metadata": {
    "id": "XbiR7QgaW4a-"
   },
   "source": [
    "## Validation of ML Models on Training Dataset"
   ]
  },
  {
   "cell_type": "markdown",
   "metadata": {
    "id": "Y29ITkBBW4a-"
   },
   "source": [
    "**Random Forest**"
   ]
  },
  {
   "cell_type": "code",
   "execution_count": 85,
   "metadata": {
    "id": "FP2k0gUuW4a-"
   },
   "outputs": [],
   "source": [
    "rf = RandomForest(max_depth=3)\n",
    "rf.fit(X_train,y_train)\n",
    "\n",
    "predictions_rfc = rf.predict(X_test)"
   ]
  },
  {
   "cell_type": "code",
   "execution_count": 86,
   "metadata": {
    "colab": {
     "base_uri": "https://localhost:8080/"
    },
    "id": "R3943voXW4a_",
    "outputId": "78207bb4-fd6f-4939-83d2-0d2204b8ade7"
   },
   "outputs": [
    {
     "name": "stdout",
     "output_type": "stream",
     "text": [
      "[[     8     86]\n",
      " [     0 733611]]\n",
      "              precision    recall  f1-score   support\n",
      "\n",
      "           0       1.00      0.09      0.16        94\n",
      "           1       1.00      1.00      1.00    733611\n",
      "\n",
      "    accuracy                           1.00    733705\n",
      "   macro avg       1.00      0.54      0.58    733705\n",
      "weighted avg       1.00      1.00      1.00    733705\n",
      "\n"
     ]
    }
   ],
   "source": [
    "print(confusion_matrix(y_test['attack'],predictions_rfc['attack']))\n",
    "print(classification_report(y_test['attack'],predictions_rfc['attack']))"
   ]
  },
  {
   "cell_type": "code",
   "execution_count": 87,
   "metadata": {
    "colab": {
     "base_uri": "https://localhost:8080/"
    },
    "id": "fcu8nEWiW4a_",
    "outputId": "3cdd65cc-634a-4b2d-f702-dd73b1f96acd"
   },
   "outputs": [
    {
     "name": "stdout",
     "output_type": "stream",
     "text": [
      "[[372807  12675      0      0      0]\n",
      " [ 42653 287092      0      4      0]\n",
      " [     0     48      0     46      0]\n",
      " [ 10339   1907      0   6125      0]\n",
      " [     0      3      0      6      0]]\n",
      "              precision    recall  f1-score   support\n",
      "\n",
      "           0       0.88      0.97      0.92    385482\n",
      "           1       0.95      0.87      0.91    329749\n",
      "           2       0.00      0.00      0.00        94\n",
      "           3       0.99      0.33      0.50     18371\n",
      "           4       0.00      0.00      0.00         9\n",
      "\n",
      "    accuracy                           0.91    733705\n",
      "   macro avg       0.56      0.43      0.47    733705\n",
      "weighted avg       0.91      0.91      0.90    733705\n",
      "\n"
     ]
    }
   ],
   "source": [
    "print(confusion_matrix(y_test['category'],predictions_rfc['category']))\n",
    "print(classification_report(y_test['category'],predictions_rfc['category']))"
   ]
  },
  {
   "cell_type": "code",
   "execution_count": 88,
   "metadata": {
    "colab": {
     "base_uri": "https://localhost:8080/"
    },
    "id": "izu7dTYYW4a_",
    "outputId": "78309e5a-409c-4c99-fdd1-f7974f0ed243"
   },
   "outputs": [
    {
     "name": "stdout",
     "output_type": "stream",
     "text": [
      "[[     0      0      0      0      0      0      0      2]\n",
      " [     0      0      0      0      0      2    495      0]\n",
      " [     0      0      0      0      0      6      0      1]\n",
      " [     0      0      0      0      0     47     42      5]\n",
      " [     0      0      0      0      0    183   3367      6]\n",
      " [     0      0      0      0      0   7117   7694      4]\n",
      " [     0      0      0      0      0      1 318134    222]\n",
      " [     0      0      0      0      0      1      7 396369]]\n",
      "              precision    recall  f1-score   support\n",
      "\n",
      "           0       0.00      0.00      0.00         2\n",
      "           1       0.00      0.00      0.00       497\n",
      "           2       0.00      0.00      0.00         7\n",
      "           3       0.00      0.00      0.00        94\n",
      "           4       0.00      0.00      0.00      3556\n",
      "           5       0.97      0.48      0.64     14815\n",
      "           6       0.96      1.00      0.98    318357\n",
      "           7       1.00      1.00      1.00    396377\n",
      "\n",
      "    accuracy                           0.98    733705\n",
      "   macro avg       0.37      0.31      0.33    733705\n",
      "weighted avg       0.98      0.98      0.98    733705\n",
      "\n"
     ]
    }
   ],
   "source": [
    "print(confusion_matrix(y_test['subcategory'],predictions_rfc['subcategory']))\n",
    "print(classification_report(y_test['subcategory'],predictions_rfc['subcategory']))"
   ]
  },
  {
   "cell_type": "code",
   "execution_count": 89,
   "metadata": {
    "colab": {
     "base_uri": "https://localhost:8080/"
    },
    "id": "sxptCMoZW4a_",
    "outputId": "81cb182c-02bb-4326-bc21-99fe41e047c5"
   },
   "outputs": [
    {
     "data": {
      "text/plain": [
       "0.9998827866785698"
      ]
     },
     "execution_count": 89,
     "metadata": {},
     "output_type": "execute_result"
    }
   ],
   "source": [
    "rf_attack_score=rf.rfc_attack.score(X_test,y_test['attack'])"
   ]
  },
  {
   "cell_type": "code",
   "execution_count": 90,
   "metadata": {
    "colab": {
     "base_uri": "https://localhost:8080/"
    },
    "id": "ZUnZR9_MW4a_",
    "outputId": "1e1d9dc8-86e7-4a59-b8ff-daee72d8f38d"
   },
   "outputs": [
    {
     "data": {
      "text/plain": [
       "0.9077544789799715"
      ]
     },
     "execution_count": 90,
     "metadata": {},
     "output_type": "execute_result"
    }
   ],
   "source": [
    "rf_category_score=rf.rfc_category.score(np.concatenate((X_test,np.array(predictions_rfc['attack']).reshape(-1,1)),axis=1),y_test['category'])"
   ]
  },
  {
   "cell_type": "code",
   "execution_count": 91,
   "metadata": {
    "colab": {
     "base_uri": "https://localhost:8080/"
    },
    "id": "BRTWybQbW4a_",
    "outputId": "ba5d9d55-d3ba-4043-8458-f8ec471a4f04"
   },
   "outputs": [
    {
     "data": {
      "text/plain": [
       "0.9835288024478503"
      ]
     },
     "execution_count": 91,
     "metadata": {},
     "output_type": "execute_result"
    }
   ],
   "source": [
    "rf_subcategory_score=rf.rfc_subcategory.score(np.concatenate((X_test,np.array(predictions_rfc['attack']).reshape(-1,1),\n",
    "                                    np.array(predictions_rfc['category']).reshape(-1,1)),axis=1),y_test['subcategory'])"
   ]
  },
  {
   "cell_type": "markdown",
   "metadata": {
    "id": "Ifijbm-dW4bC"
   },
   "source": [
    "**Decision Tree (Information Gain)**"
   ]
  },
  {
   "cell_type": "code",
   "execution_count": 92,
   "metadata": {
    "id": "nqGhYP5FW4bD"
   },
   "outputs": [],
   "source": [
    "dtree_ig = DecisionTree('entropy')\n",
    "dtree_ig.fit(X_train,y_train)\n",
    "predictions_dtree_ig = dtree_ig.predict(X_test)"
   ]
  },
  {
   "cell_type": "code",
   "execution_count": 93,
   "metadata": {
    "colab": {
     "base_uri": "https://localhost:8080/"
    },
    "id": "dgkhKodFW4bD",
    "outputId": "5d4c3b4f-5d2a-41ac-92b0-79f3c9233039"
   },
   "outputs": [
    {
     "name": "stdout",
     "output_type": "stream",
     "text": [
      "[[    29     65]\n",
      " [     1 733610]]\n",
      "              precision    recall  f1-score   support\n",
      "\n",
      "           0       0.97      0.31      0.47        94\n",
      "           1       1.00      1.00      1.00    733611\n",
      "\n",
      "    accuracy                           1.00    733705\n",
      "   macro avg       0.98      0.65      0.73    733705\n",
      "weighted avg       1.00      1.00      1.00    733705\n",
      "\n"
     ]
    }
   ],
   "source": [
    "print(confusion_matrix(y_test['attack'],predictions_dtree_ig['attack']))\n",
    "print(classification_report(y_test['attack'],predictions_dtree_ig['attack']))"
   ]
  },
  {
   "cell_type": "code",
   "execution_count": 94,
   "metadata": {
    "colab": {
     "base_uri": "https://localhost:8080/"
    },
    "id": "sZILOvuyW4bD",
    "outputId": "e155fa66-2c36-441c-fa0d-f91673649834"
   },
   "outputs": [
    {
     "name": "stdout",
     "output_type": "stream",
     "text": [
      "[[339231  45709      0    542      0]\n",
      " [ 11646 318049      0     54      0]\n",
      " [     7     13     25     49      0]\n",
      " [   370   7516      0  10485      0]\n",
      " [     0      0      0      9      0]]\n",
      "              precision    recall  f1-score   support\n",
      "\n",
      "           0       0.97      0.88      0.92    385482\n",
      "           1       0.86      0.96      0.91    329749\n",
      "           2       1.00      0.27      0.42        94\n",
      "           3       0.94      0.57      0.71     18371\n",
      "           4       0.00      0.00      0.00         9\n",
      "\n",
      "    accuracy                           0.91    733705\n",
      "   macro avg       0.75      0.54      0.59    733705\n",
      "weighted avg       0.92      0.91      0.91    733705\n",
      "\n"
     ]
    }
   ],
   "source": [
    "print(confusion_matrix(y_test['category'],predictions_dtree_ig['category']))\n",
    "print(classification_report(y_test['category'],predictions_dtree_ig['category']))"
   ]
  },
  {
   "cell_type": "code",
   "execution_count": 95,
   "metadata": {
    "colab": {
     "base_uri": "https://localhost:8080/"
    },
    "id": "ZSrMDcrGW4bD",
    "outputId": "c8e6a9b1-8eef-462e-c45a-1479731f4f87"
   },
   "outputs": [
    {
     "name": "stdout",
     "output_type": "stream",
     "text": [
      "[[     0      0      2      0      0      0      0      0]\n",
      " [     0    347      0      0      0    109     40      1]\n",
      " [     0      0      1      0      0      6      0      0]\n",
      " [     0      0      0     35      8     38     10      3]\n",
      " [     0      0      0      1    880    548   2111     16]\n",
      " [     0     18      0      3    254   8803   5726     11]\n",
      " [     0      0      0      0      1    469 317887      0]\n",
      " [     0      0      0      0      1      0      3 396373]]\n",
      "              precision    recall  f1-score   support\n",
      "\n",
      "           0       0.00      0.00      0.00         2\n",
      "           1       0.95      0.70      0.81       497\n",
      "           2       0.33      0.14      0.20         7\n",
      "           3       0.90      0.37      0.53        94\n",
      "           4       0.77      0.25      0.37      3556\n",
      "           5       0.88      0.59      0.71     14815\n",
      "           6       0.98      1.00      0.99    318357\n",
      "           7       1.00      1.00      1.00    396377\n",
      "\n",
      "    accuracy                           0.99    733705\n",
      "   macro avg       0.73      0.51      0.58    733705\n",
      "weighted avg       0.99      0.99      0.99    733705\n",
      "\n"
     ]
    }
   ],
   "source": [
    "print(confusion_matrix(y_test['subcategory'],predictions_dtree_ig['subcategory']))\n",
    "print(classification_report(y_test['subcategory'],predictions_dtree_ig['subcategory']))"
   ]
  },
  {
   "cell_type": "code",
   "execution_count": 96,
   "metadata": {
    "colab": {
     "base_uri": "https://localhost:8080/"
    },
    "id": "P2oi3VnzW4bD",
    "outputId": "894e9050-f5f7-4a58-804c-34de737c389d"
   },
   "outputs": [
    {
     "data": {
      "text/plain": [
       "0.9999100455905302"
      ]
     },
     "execution_count": 96,
     "metadata": {},
     "output_type": "execute_result"
    }
   ],
   "source": [
    "dtig_cattack_score=dtree_ig.dtree_attack.score(X_test,y_test['attack'])"
   ]
  },
  {
   "cell_type": "code",
   "execution_count": 97,
   "metadata": {
    "colab": {
     "base_uri": "https://localhost:8080/"
    },
    "id": "TTD8fU60W4bD",
    "outputId": "185f5c53-6707-4070-d1d9-fd9bea90c875"
   },
   "outputs": [
    {
     "data": {
      "text/plain": [
       "0.9101614409060862"
      ]
     },
     "execution_count": 97,
     "metadata": {},
     "output_type": "execute_result"
    }
   ],
   "source": [
    "dtig_category_score=dtree_ig.dtree_category.score(np.concatenate((X_test,np.array(predictions_dtree_ig['attack']).reshape(-1,1)),axis=1),y_test['category'])"
   ]
  },
  {
   "cell_type": "code",
   "execution_count": 98,
   "metadata": {
    "colab": {
     "base_uri": "https://localhost:8080/"
    },
    "id": "lEpVp0ubW4bE",
    "outputId": "4f028a05-031b-4284-853b-f9089f4529e7"
   },
   "outputs": [
    {
     "data": {
      "text/plain": [
       "0.9872169332361099"
      ]
     },
     "execution_count": 98,
     "metadata": {},
     "output_type": "execute_result"
    }
   ],
   "source": [
    "dtig_subcategory_score=dtree_ig.dtree_subcategory.score(np.concatenate((X_test,np.array(predictions_dtree_ig['attack']).reshape(-1,1),\n",
    "                                        np.array(predictions_dtree_ig['category']).reshape(-1,1)),axis=1),y_test['subcategory'])"
   ]
  },
  {
   "cell_type": "markdown",
   "metadata": {
    "id": "2zznLzr_W4bE"
   },
   "source": [
    "**Decision Tree (Gini Index)**"
   ]
  },
  {
   "cell_type": "code",
   "execution_count": 99,
   "metadata": {
    "id": "adtR5OZBW4bE"
   },
   "outputs": [],
   "source": [
    "dtree_gini = DecisionTree('gini')\n",
    "dtree_gini.fit(X_train,y_train)\n",
    "predictions_dtree_gini = dtree_gini.predict(X_test)"
   ]
  },
  {
   "cell_type": "code",
   "execution_count": 100,
   "metadata": {
    "colab": {
     "base_uri": "https://localhost:8080/"
    },
    "id": "MP5NQb4eW4bE",
    "outputId": "f035b66f-303e-4d3a-f934-e93cd3325c9b"
   },
   "outputs": [
    {
     "name": "stdout",
     "output_type": "stream",
     "text": [
      "[[    42     52]\n",
      " [    11 733600]]\n",
      "              precision    recall  f1-score   support\n",
      "\n",
      "           0       0.79      0.45      0.57        94\n",
      "           1       1.00      1.00      1.00    733611\n",
      "\n",
      "    accuracy                           1.00    733705\n",
      "   macro avg       0.90      0.72      0.79    733705\n",
      "weighted avg       1.00      1.00      1.00    733705\n",
      "\n"
     ]
    }
   ],
   "source": [
    "print(confusion_matrix(y_test['attack'],predictions_dtree_gini['attack']))\n",
    "print(classification_report(y_test['attack'],predictions_dtree_gini['attack']))"
   ]
  },
  {
   "cell_type": "code",
   "execution_count": 101,
   "metadata": {
    "colab": {
     "base_uri": "https://localhost:8080/"
    },
    "id": "FWVAA9xlW4bE",
    "outputId": "11d8c6e5-98f1-42ae-a0b3-f23997528abc"
   },
   "outputs": [
    {
     "name": "stdout",
     "output_type": "stream",
     "text": [
      "[[338114  46891      0    477      0]\n",
      " [  8536 321199      3     11      0]\n",
      " [     0     21     34     39      0]\n",
      " [    78   7444      3  10846      0]\n",
      " [     0      3      0      6      0]]\n",
      "              precision    recall  f1-score   support\n",
      "\n",
      "           0       0.98      0.88      0.92    385482\n",
      "           1       0.86      0.97      0.91    329749\n",
      "           2       0.85      0.36      0.51        94\n",
      "           3       0.95      0.59      0.73     18371\n",
      "           4       0.00      0.00      0.00         9\n",
      "\n",
      "    accuracy                           0.91    733705\n",
      "   macro avg       0.73      0.56      0.61    733705\n",
      "weighted avg       0.92      0.91      0.91    733705\n",
      "\n"
     ]
    }
   ],
   "source": [
    "print(confusion_matrix(y_test['category'],predictions_dtree_gini['category']))\n",
    "print(classification_report(y_test['category'],predictions_dtree_gini['category']))"
   ]
  },
  {
   "cell_type": "code",
   "execution_count": 102,
   "metadata": {
    "colab": {
     "base_uri": "https://localhost:8080/"
    },
    "id": "UJ79pNRvW4bE",
    "outputId": "a828d2ac-a354-49ef-a023-dfcd1481f7e9"
   },
   "outputs": [
    {
     "name": "stdout",
     "output_type": "stream",
     "text": [
      "[[     0      0      0      0      2      0      0      0]\n",
      " [     0    416      0      0      0     12     69      0]\n",
      " [     0      0      0      0      1      6      0      0]\n",
      " [     0      5      0      4      9     63     13      0]\n",
      " [     0     19      0      0    800    686   2051      0]\n",
      " [     0     19      0      0    108   9258   5430      0]\n",
      " [     0     60      0      0      1    477 317819      0]\n",
      " [     0      0      0      1      1      0      7 396368]]\n",
      "              precision    recall  f1-score   support\n",
      "\n",
      "           0       0.00      0.00      0.00         2\n",
      "           1       0.80      0.84      0.82       497\n",
      "           2       0.00      0.00      0.00         7\n",
      "           3       0.80      0.04      0.08        94\n",
      "           4       0.87      0.22      0.36      3556\n",
      "           5       0.88      0.62      0.73     14815\n",
      "           6       0.98      1.00      0.99    318357\n",
      "           7       1.00      1.00      1.00    396377\n",
      "\n",
      "    accuracy                           0.99    733705\n",
      "   macro avg       0.67      0.47      0.50    733705\n",
      "weighted avg       0.99      0.99      0.99    733705\n",
      "\n"
     ]
    }
   ],
   "source": [
    "print(confusion_matrix(y_test['subcategory'],predictions_dtree_gini['subcategory']))\n",
    "print(classification_report(y_test['subcategory'],predictions_dtree_gini['subcategory']))"
   ]
  },
  {
   "cell_type": "code",
   "execution_count": 103,
   "metadata": {
    "colab": {
     "base_uri": "https://localhost:8080/"
    },
    "id": "HncNzjGFW4bF",
    "outputId": "1e60fb14-3ec1-4800-91c7-c99b7263835c"
   },
   "outputs": [
    {
     "data": {
      "text/plain": [
       "0.9999141344273244"
      ]
     },
     "execution_count": 103,
     "metadata": {},
     "output_type": "execute_result"
    }
   ],
   "source": [
    "dtg_attack_score=dtree_gini.dtree_attack.score(X_test,y_test['attack'])"
   ]
  },
  {
   "cell_type": "code",
   "execution_count": 104,
   "metadata": {
    "colab": {
     "base_uri": "https://localhost:8080/"
    },
    "id": "dbzb-QVAW4bF",
    "outputId": "9dc295b4-7905-4f02-acdb-565f8be492f0"
   },
   "outputs": [
    {
     "data": {
      "text/plain": [
       "0.9134365991781438"
      ]
     },
     "execution_count": 104,
     "metadata": {},
     "output_type": "execute_result"
    }
   ],
   "source": [
    "dtg_category_score=dtree_gini.dtree_category.score(np.concatenate((X_test,np.array(predictions_dtree_gini['attack']).reshape(-1,1)),axis=1),y_test['category'])"
   ]
  },
  {
   "cell_type": "code",
   "execution_count": 105,
   "metadata": {
    "colab": {
     "base_uri": "https://localhost:8080/"
    },
    "id": "V0bbb9x2W4bF",
    "outputId": "1e9216ef-3c51-4e01-9260-cdb846b68479"
   },
   "outputs": [
    {
     "data": {
      "text/plain": [
       "0.9876789717938409"
      ]
     },
     "execution_count": 105,
     "metadata": {},
     "output_type": "execute_result"
    }
   ],
   "source": [
    "dtg_subcategory_score=dtree_gini.dtree_subcategory.score(np.concatenate((X_test,np.array(predictions_dtree_gini['attack']).reshape(-1,1),\n",
    "                                        np.array(predictions_dtree_gini['category']).reshape(-1,1)),axis=1),y_test['subcategory'])"
   ]
  },
  {
   "cell_type": "markdown",
   "metadata": {
    "id": "KnGcd0TNW4bF"
   },
   "source": [
    "**Gradient Boost**"
   ]
  },
  {
   "cell_type": "code",
   "execution_count": 106,
   "metadata": {
    "id": "jsC7foEJW4bF"
   },
   "outputs": [],
   "source": [
    "xgb = GradientBoost()\n",
    "xgb.fit(X_train,y_train)\n",
    "predictions_xgb = xgb.predict(X_test)"
   ]
  },
  {
   "cell_type": "code",
   "execution_count": 107,
   "metadata": {
    "colab": {
     "base_uri": "https://localhost:8080/"
    },
    "id": "vVj_4B3ZW4bF",
    "outputId": "befa42f2-0e6d-4ca0-ff1a-5fbefd5f5b80"
   },
   "outputs": [
    {
     "name": "stdout",
     "output_type": "stream",
     "text": [
      "[[    91      3]\n",
      " [     6 733605]]\n",
      "              precision    recall  f1-score   support\n",
      "\n",
      "           0       0.94      0.97      0.95        94\n",
      "           1       1.00      1.00      1.00    733611\n",
      "\n",
      "    accuracy                           1.00    733705\n",
      "   macro avg       0.97      0.98      0.98    733705\n",
      "weighted avg       1.00      1.00      1.00    733705\n",
      "\n"
     ]
    }
   ],
   "source": [
    "print(confusion_matrix(y_test['attack'],predictions_xgb['attack']))\n",
    "print(classification_report(y_test['attack'],predictions_xgb['attack']))"
   ]
  },
  {
   "cell_type": "code",
   "execution_count": 108,
   "metadata": {
    "colab": {
     "base_uri": "https://localhost:8080/"
    },
    "id": "x5J2P1YUW4bG",
    "outputId": "b6bf3ca7-c7bd-44a9-b4ce-4076afa3809e"
   },
   "outputs": [
    {
     "name": "stdout",
     "output_type": "stream",
     "text": [
      "[[385472     10      0      0      0]\n",
      " [    21 329724      3      0      1]\n",
      " [     0      1     91      2      0]\n",
      " [     1      0      3  18367      0]\n",
      " [     0      0      0      1      8]]\n",
      "              precision    recall  f1-score   support\n",
      "\n",
      "           0       1.00      1.00      1.00    385482\n",
      "           1       1.00      1.00      1.00    329749\n",
      "           2       0.94      0.97      0.95        94\n",
      "           3       1.00      1.00      1.00     18371\n",
      "           4       0.89      0.89      0.89         9\n",
      "\n",
      "    accuracy                           1.00    733705\n",
      "   macro avg       0.97      0.97      0.97    733705\n",
      "weighted avg       1.00      1.00      1.00    733705\n",
      "\n"
     ]
    }
   ],
   "source": [
    "print(confusion_matrix(y_test['category'],predictions_xgb['category']))\n",
    "print(classification_report(y_test['category'],predictions_xgb['category']))"
   ]
  },
  {
   "cell_type": "code",
   "execution_count": 109,
   "metadata": {
    "colab": {
     "base_uri": "https://localhost:8080/"
    },
    "id": "eNawhs8LW4bG",
    "outputId": "a95413dc-6f2a-469e-fc32-cfde15c83514"
   },
   "outputs": [
    {
     "name": "stdout",
     "output_type": "stream",
     "text": [
      "[[     2      0      0      0      0      0      0      0]\n",
      " [     0    495      1      1      0      0      0      0]\n",
      " [     0      0      6      0      0      1      0      0]\n",
      " [     0      0      0     91      0      2      1      0]\n",
      " [     0      0      0      1   3291    263      1      0]\n",
      " [     0      0      0      2    226  14587      0      0]\n",
      " [     0      0      0      1      0      0 318356      0]\n",
      " [     0      0      0      1      0      0      4 396372]]\n",
      "              precision    recall  f1-score   support\n",
      "\n",
      "           0       1.00      1.00      1.00         2\n",
      "           1       1.00      1.00      1.00       497\n",
      "           2       0.86      0.86      0.86         7\n",
      "           3       0.94      0.97      0.95        94\n",
      "           4       0.94      0.93      0.93      3556\n",
      "           5       0.98      0.98      0.98     14815\n",
      "           6       1.00      1.00      1.00    318357\n",
      "           7       1.00      1.00      1.00    396377\n",
      "\n",
      "    accuracy                           1.00    733705\n",
      "   macro avg       0.96      0.97      0.97    733705\n",
      "weighted avg       1.00      1.00      1.00    733705\n",
      "\n"
     ]
    }
   ],
   "source": [
    "print(confusion_matrix(y_test['subcategory'],predictions_xgb['subcategory']))\n",
    "print(classification_report(y_test['subcategory'],predictions_xgb['subcategory']))"
   ]
  },
  {
   "cell_type": "code",
   "execution_count": 110,
   "metadata": {
    "colab": {
     "base_uri": "https://localhost:8080/"
    },
    "id": "j9ULK4QKW4bG",
    "outputId": "5af3ab35-1d22-44c3-fc59-63157dc0700a"
   },
   "outputs": [
    {
     "data": {
      "text/plain": [
       "0.9999877334896178"
      ]
     },
     "execution_count": 110,
     "metadata": {},
     "output_type": "execute_result"
    }
   ],
   "source": [
    "xgb_attack_score=xgb.xgb_attack.score(X_test,y_test['attack'])"
   ]
  },
  {
   "cell_type": "code",
   "execution_count": 111,
   "metadata": {
    "colab": {
     "base_uri": "https://localhost:8080/"
    },
    "id": "YxYlk-3_W4bG",
    "outputId": "c70c8d27-b9b7-485d-810b-75da2687ed96"
   },
   "outputs": [
    {
     "data": {
      "text/plain": [
       "0.9999413933392849"
      ]
     },
     "execution_count": 111,
     "metadata": {},
     "output_type": "execute_result"
    }
   ],
   "source": [
    "xgb_category_score=xgb.xgb_category.score(np.concatenate((X_test,np.array(predictions_xgb['attack']).reshape(-1,1)),axis=1),y_test['category'])"
   ]
  },
  {
   "cell_type": "code",
   "execution_count": 112,
   "metadata": {
    "colab": {
     "base_uri": "https://localhost:8080/"
    },
    "id": "ZfPSWs0vW4bG",
    "outputId": "9aa6bb85-1b42-4a7b-9777-fc4ba7a405c2"
   },
   "outputs": [
    {
     "data": {
      "text/plain": [
       "0.9993117124729967"
      ]
     },
     "execution_count": 112,
     "metadata": {},
     "output_type": "execute_result"
    }
   ],
   "source": [
    "xgb_subcategory_score=xgb.xgb_subcategory.score(np.concatenate((X_test,np.array(predictions_xgb['attack']).reshape(-1,1),\n",
    "                                        np.array(predictions_xgb['category']).reshape(-1,1)),axis=1),y_test['subcategory'])"
   ]
  },
  {
   "cell_type": "code",
   "execution_count": null,
   "metadata": {},
   "outputs": [],
   "source": [
    "models = pd.DataFrame({\n",
    "    'Model' : [ 'Random Forest Classifier','Decision Tree Classifier(IG)','Decision Tree Classifier(Gini)', 'XgBoost'],\n",
    "    'Attack Score' : [rf_attack_score,dtig_attack_score,dtg_attack_score,xgb_attack_score]\n",
    "    'Category Score' : [rf_category_score,dtig_category_score,dtg_category_score,xgb_category_score]\n",
    "    'SubCategory Score' : [rf_subcategory_score,dtig_subcategory_score,dtg_subcategory_score,xgb_subcategory_score]\n",
    "})\n",
    "\n",
    "\n",
    "models.sort_values(by = 'Attack Score', ascending = False)"
   ]
  },
  {
   "cell_type": "markdown",
   "metadata": {
    "id": "CRmGENFdW4bH"
   },
   "source": [
    "### Test Data"
   ]
  },
  {
   "cell_type": "code",
   "execution_count": 113,
   "metadata": {
    "id": "xNcHR7pRW4bH",
    "outputId": "7ecf618a-2d27-415a-ec7c-f1925ce1b4bf"
   },
   "outputs": [
    {
     "data": {
      "text/html": [
       "<div>\n",
       "<style scoped>\n",
       "    .dataframe tbody tr th:only-of-type {\n",
       "        vertical-align: middle;\n",
       "    }\n",
       "\n",
       "    .dataframe tbody tr th {\n",
       "        vertical-align: top;\n",
       "    }\n",
       "\n",
       "    .dataframe thead th {\n",
       "        text-align: right;\n",
       "    }\n",
       "</style>\n",
       "<table border=\"1\" class=\"dataframe\">\n",
       "  <thead>\n",
       "    <tr style=\"text-align: right;\">\n",
       "      <th></th>\n",
       "      <th>pkSeqID</th>\n",
       "      <th>proto</th>\n",
       "      <th>saddr</th>\n",
       "      <th>sport</th>\n",
       "      <th>daddr</th>\n",
       "      <th>dport</th>\n",
       "      <th>seq</th>\n",
       "      <th>stddev</th>\n",
       "      <th>N_IN_Conn_P_SrcIP</th>\n",
       "      <th>min</th>\n",
       "      <th>state_number</th>\n",
       "      <th>mean</th>\n",
       "      <th>N_IN_Conn_P_DstIP</th>\n",
       "      <th>drate</th>\n",
       "      <th>srate</th>\n",
       "      <th>max</th>\n",
       "      <th>attack</th>\n",
       "      <th>category</th>\n",
       "      <th>subcategory</th>\n",
       "    </tr>\n",
       "  </thead>\n",
       "  <tbody>\n",
       "    <tr>\n",
       "      <th>0</th>\n",
       "      <td>792371</td>\n",
       "      <td>udp</td>\n",
       "      <td>192.168.100.150</td>\n",
       "      <td>48516</td>\n",
       "      <td>192.168.100.3</td>\n",
       "      <td>80</td>\n",
       "      <td>175094</td>\n",
       "      <td>0.226784</td>\n",
       "      <td>100</td>\n",
       "      <td>4.100436</td>\n",
       "      <td>4</td>\n",
       "      <td>4.457383</td>\n",
       "      <td>100</td>\n",
       "      <td>0.000000</td>\n",
       "      <td>0.404711</td>\n",
       "      <td>4.719438</td>\n",
       "      <td>1</td>\n",
       "      <td>DoS</td>\n",
       "      <td>UDP</td>\n",
       "    </tr>\n",
       "    <tr>\n",
       "      <th>1</th>\n",
       "      <td>2056418</td>\n",
       "      <td>tcp</td>\n",
       "      <td>192.168.100.148</td>\n",
       "      <td>22267</td>\n",
       "      <td>192.168.100.3</td>\n",
       "      <td>80</td>\n",
       "      <td>143024</td>\n",
       "      <td>0.451998</td>\n",
       "      <td>100</td>\n",
       "      <td>3.439257</td>\n",
       "      <td>1</td>\n",
       "      <td>3.806172</td>\n",
       "      <td>100</td>\n",
       "      <td>0.225077</td>\n",
       "      <td>0.401397</td>\n",
       "      <td>4.442930</td>\n",
       "      <td>1</td>\n",
       "      <td>DDoS</td>\n",
       "      <td>TCP</td>\n",
       "    </tr>\n",
       "    <tr>\n",
       "      <th>2</th>\n",
       "      <td>2795650</td>\n",
       "      <td>udp</td>\n",
       "      <td>192.168.100.149</td>\n",
       "      <td>28629</td>\n",
       "      <td>192.168.100.3</td>\n",
       "      <td>80</td>\n",
       "      <td>167033</td>\n",
       "      <td>1.931553</td>\n",
       "      <td>73</td>\n",
       "      <td>0.000000</td>\n",
       "      <td>4</td>\n",
       "      <td>2.731204</td>\n",
       "      <td>100</td>\n",
       "      <td>0.000000</td>\n",
       "      <td>0.407287</td>\n",
       "      <td>4.138455</td>\n",
       "      <td>1</td>\n",
       "      <td>DDoS</td>\n",
       "      <td>UDP</td>\n",
       "    </tr>\n",
       "    <tr>\n",
       "      <th>3</th>\n",
       "      <td>2118009</td>\n",
       "      <td>tcp</td>\n",
       "      <td>192.168.100.148</td>\n",
       "      <td>42142</td>\n",
       "      <td>192.168.100.3</td>\n",
       "      <td>80</td>\n",
       "      <td>204615</td>\n",
       "      <td>0.428798</td>\n",
       "      <td>56</td>\n",
       "      <td>3.271411</td>\n",
       "      <td>1</td>\n",
       "      <td>3.626428</td>\n",
       "      <td>100</td>\n",
       "      <td>0.000000</td>\n",
       "      <td>0.343654</td>\n",
       "      <td>4.229700</td>\n",
       "      <td>1</td>\n",
       "      <td>DDoS</td>\n",
       "      <td>TCP</td>\n",
       "    </tr>\n",
       "    <tr>\n",
       "      <th>4</th>\n",
       "      <td>303688</td>\n",
       "      <td>tcp</td>\n",
       "      <td>192.168.100.149</td>\n",
       "      <td>1645</td>\n",
       "      <td>192.168.100.5</td>\n",
       "      <td>80</td>\n",
       "      <td>40058</td>\n",
       "      <td>2.058381</td>\n",
       "      <td>100</td>\n",
       "      <td>0.000000</td>\n",
       "      <td>3</td>\n",
       "      <td>1.188407</td>\n",
       "      <td>100</td>\n",
       "      <td>0.000000</td>\n",
       "      <td>0.135842</td>\n",
       "      <td>4.753628</td>\n",
       "      <td>1</td>\n",
       "      <td>DoS</td>\n",
       "      <td>TCP</td>\n",
       "    </tr>\n",
       "  </tbody>\n",
       "</table>\n",
       "</div>"
      ],
      "text/plain": [
       "   pkSeqID proto            saddr  sport          daddr dport     seq  \\\n",
       "0   792371   udp  192.168.100.150  48516  192.168.100.3    80  175094   \n",
       "1  2056418   tcp  192.168.100.148  22267  192.168.100.3    80  143024   \n",
       "2  2795650   udp  192.168.100.149  28629  192.168.100.3    80  167033   \n",
       "3  2118009   tcp  192.168.100.148  42142  192.168.100.3    80  204615   \n",
       "4   303688   tcp  192.168.100.149   1645  192.168.100.5    80   40058   \n",
       "\n",
       "     stddev  N_IN_Conn_P_SrcIP       min  state_number      mean  \\\n",
       "0  0.226784                100  4.100436             4  4.457383   \n",
       "1  0.451998                100  3.439257             1  3.806172   \n",
       "2  1.931553                 73  0.000000             4  2.731204   \n",
       "3  0.428798                 56  3.271411             1  3.626428   \n",
       "4  2.058381                100  0.000000             3  1.188407   \n",
       "\n",
       "   N_IN_Conn_P_DstIP     drate     srate       max  attack category  \\\n",
       "0                100  0.000000  0.404711  4.719438       1      DoS   \n",
       "1                100  0.225077  0.401397  4.442930       1     DDoS   \n",
       "2                100  0.000000  0.407287  4.138455       1     DDoS   \n",
       "3                100  0.000000  0.343654  4.229700       1     DDoS   \n",
       "4                100  0.000000  0.135842  4.753628       1      DoS   \n",
       "\n",
       "  subcategory  \n",
       "0         UDP  \n",
       "1         TCP  \n",
       "2         UDP  \n",
       "3         TCP  \n",
       "4         TCP  "
      ]
     },
     "execution_count": 113,
     "metadata": {},
     "output_type": "execute_result"
    }
   ],
   "source": [
    "test_data = pd.read_csv(\"UNSW_2018_IoT_Botnet_Final_10_best_Testing.csv\")\n",
    "test_data.head()"
   ]
  },
  {
   "cell_type": "code",
   "execution_count": 114,
   "metadata": {
    "id": "yP-qOFBhW4bH",
    "outputId": "4be37998-8e60-41b8-e651-d8ef7d8d5182"
   },
   "outputs": [
    {
     "data": {
      "text/html": [
       "<div>\n",
       "<style scoped>\n",
       "    .dataframe tbody tr th:only-of-type {\n",
       "        vertical-align: middle;\n",
       "    }\n",
       "\n",
       "    .dataframe tbody tr th {\n",
       "        vertical-align: top;\n",
       "    }\n",
       "\n",
       "    .dataframe thead th {\n",
       "        text-align: right;\n",
       "    }\n",
       "</style>\n",
       "<table border=\"1\" class=\"dataframe\">\n",
       "  <thead>\n",
       "    <tr style=\"text-align: right;\">\n",
       "      <th></th>\n",
       "      <th>seq</th>\n",
       "      <th>stddev</th>\n",
       "      <th>N_IN_Conn_P_SrcIP</th>\n",
       "      <th>min</th>\n",
       "      <th>state_number</th>\n",
       "      <th>mean</th>\n",
       "      <th>N_IN_Conn_P_DstIP</th>\n",
       "      <th>drate</th>\n",
       "      <th>srate</th>\n",
       "      <th>max</th>\n",
       "    </tr>\n",
       "  </thead>\n",
       "  <tbody>\n",
       "    <tr>\n",
       "      <th>0</th>\n",
       "      <td>175094</td>\n",
       "      <td>0.226784</td>\n",
       "      <td>100</td>\n",
       "      <td>4.100436</td>\n",
       "      <td>4</td>\n",
       "      <td>4.457383</td>\n",
       "      <td>100</td>\n",
       "      <td>0.000000</td>\n",
       "      <td>0.404711</td>\n",
       "      <td>4.719438</td>\n",
       "    </tr>\n",
       "    <tr>\n",
       "      <th>1</th>\n",
       "      <td>143024</td>\n",
       "      <td>0.451998</td>\n",
       "      <td>100</td>\n",
       "      <td>3.439257</td>\n",
       "      <td>1</td>\n",
       "      <td>3.806172</td>\n",
       "      <td>100</td>\n",
       "      <td>0.225077</td>\n",
       "      <td>0.401397</td>\n",
       "      <td>4.442930</td>\n",
       "    </tr>\n",
       "    <tr>\n",
       "      <th>2</th>\n",
       "      <td>167033</td>\n",
       "      <td>1.931553</td>\n",
       "      <td>73</td>\n",
       "      <td>0.000000</td>\n",
       "      <td>4</td>\n",
       "      <td>2.731204</td>\n",
       "      <td>100</td>\n",
       "      <td>0.000000</td>\n",
       "      <td>0.407287</td>\n",
       "      <td>4.138455</td>\n",
       "    </tr>\n",
       "    <tr>\n",
       "      <th>3</th>\n",
       "      <td>204615</td>\n",
       "      <td>0.428798</td>\n",
       "      <td>56</td>\n",
       "      <td>3.271411</td>\n",
       "      <td>1</td>\n",
       "      <td>3.626428</td>\n",
       "      <td>100</td>\n",
       "      <td>0.000000</td>\n",
       "      <td>0.343654</td>\n",
       "      <td>4.229700</td>\n",
       "    </tr>\n",
       "    <tr>\n",
       "      <th>4</th>\n",
       "      <td>40058</td>\n",
       "      <td>2.058381</td>\n",
       "      <td>100</td>\n",
       "      <td>0.000000</td>\n",
       "      <td>3</td>\n",
       "      <td>1.188407</td>\n",
       "      <td>100</td>\n",
       "      <td>0.000000</td>\n",
       "      <td>0.135842</td>\n",
       "      <td>4.753628</td>\n",
       "    </tr>\n",
       "  </tbody>\n",
       "</table>\n",
       "</div>"
      ],
      "text/plain": [
       "      seq    stddev  N_IN_Conn_P_SrcIP       min  state_number      mean  \\\n",
       "0  175094  0.226784                100  4.100436             4  4.457383   \n",
       "1  143024  0.451998                100  3.439257             1  3.806172   \n",
       "2  167033  1.931553                 73  0.000000             4  2.731204   \n",
       "3  204615  0.428798                 56  3.271411             1  3.626428   \n",
       "4   40058  2.058381                100  0.000000             3  1.188407   \n",
       "\n",
       "   N_IN_Conn_P_DstIP     drate     srate       max  \n",
       "0                100  0.000000  0.404711  4.719438  \n",
       "1                100  0.225077  0.401397  4.442930  \n",
       "2                100  0.000000  0.407287  4.138455  \n",
       "3                100  0.000000  0.343654  4.229700  \n",
       "4                100  0.000000  0.135842  4.753628  "
      ]
     },
     "execution_count": 114,
     "metadata": {},
     "output_type": "execute_result"
    }
   ],
   "source": [
    "# Extracting the ten-best features from test set\n",
    "test_ten_best = test_data[ten_best_features.columns]\n",
    "test_labels = test_data[['attack','category','subcategory']]\n",
    "test_ten_best.head()"
   ]
  },
  {
   "cell_type": "markdown",
   "metadata": {
    "id": "Q8ZmWI86W4bH"
   },
   "source": [
    "**Using complete training data and test data**"
   ]
  },
  {
   "cell_type": "code",
   "execution_count": 115,
   "metadata": {
    "id": "7Hg8wyHkW4bH"
   },
   "outputs": [],
   "source": [
    "# Standard Scaling\n",
    "train_data = sc.fit_transform(ten_best_features)\n",
    "test = sc.transform(test_ten_best)"
   ]
  },
  {
   "cell_type": "code",
   "execution_count": 116,
   "metadata": {
    "id": "opmDsYZiW4bH"
   },
   "outputs": [],
   "source": [
    "ten_best_features = df[['seq','stddev','N_IN_Conn_P_SrcIP', 'min', 'state_number', 'mean', 'N_IN_Conn_P_DstIP',\n",
    "       'drate', 'srate', 'max']]\n",
    "target_features = df[['attack','category','subcategory']]"
   ]
  },
  {
   "cell_type": "code",
   "execution_count": 117,
   "metadata": {
    "id": "lgdSnbxaW4bI"
   },
   "outputs": [],
   "source": [
    "# Label Encoding\n",
    "\n",
    "target_features['category'] = le.fit_transform(target_features['category'])\n",
    "test_labels['category'] = le.transform(test_labels['category'])\n",
    "\n",
    "target_features['subcategory'] = le.fit_transform(target_features['subcategory'])\n",
    "test_labels['subcategory'] = le.transform(test_labels['subcategory'])"
   ]
  },
  {
   "cell_type": "markdown",
   "metadata": {
    "id": "kimSc4rHW4bI"
   },
   "source": [
    "### Training ML Models on Complete Data and Testing on test set"
   ]
  },
  {
   "cell_type": "markdown",
   "metadata": {
    "id": "REstBeZoW4bI"
   },
   "source": [
    "**Random Forest**"
   ]
  },
  {
   "cell_type": "code",
   "execution_count": 118,
   "metadata": {
    "id": "s45b4RNkW4bI"
   },
   "outputs": [],
   "source": [
    "rf_clf = RandomForest(max_depth=5)\n",
    "rf_clf.fit(train_data,target_features)\n",
    "predictions_rf = rf_clf.predict(test)"
   ]
  },
  {
   "cell_type": "code",
   "execution_count": 119,
   "metadata": {
    "id": "8_2aisfHW4bI",
    "outputId": "b9432d88-dfc6-407f-8c65-0a4e5b2385c2"
   },
   "outputs": [
    {
     "name": "stdout",
     "output_type": "stream",
     "text": [
      "Random Forest: Attack\n",
      "\n",
      "[[    38     69]\n",
      " [     0 733598]] \n",
      "\n",
      "              precision    recall  f1-score   support\n",
      "\n",
      "           0       1.00      0.36      0.52       107\n",
      "           1       1.00      1.00      1.00    733598\n",
      "\n",
      "    accuracy                           1.00    733705\n",
      "   macro avg       1.00      0.68      0.76    733705\n",
      "weighted avg       1.00      1.00      1.00    733705\n",
      "\n"
     ]
    }
   ],
   "source": [
    "print(\"Random Forest: Attack\\n\")\n",
    "print(confusion_matrix(test_labels['attack'],predictions_rf['attack']),\"\\n\")\n",
    "print(classification_report(test_labels['attack'],predictions_rf['attack']))"
   ]
  },
  {
   "cell_type": "code",
   "execution_count": 120,
   "metadata": {
    "id": "1-FuaZngW4bI",
    "outputId": "70b069d7-5953-4249-af53-2c929a660640"
   },
   "outputs": [
    {
     "name": "stdout",
     "output_type": "stream",
     "text": [
      "Random Forest: Category\n",
      "\n",
      "[[377035   8272      0      2      0]\n",
      " [  8485 321626      0      1      0]\n",
      " [     1     25     26     55      0]\n",
      " [   506     36      0  17621      0]\n",
      " [     0      1      0     13      0]]\n",
      "              precision    recall  f1-score   support\n",
      "\n",
      "           0       0.98      0.98      0.98    385309\n",
      "           1       0.97      0.97      0.97    330112\n",
      "           2       1.00      0.24      0.39       107\n",
      "           3       1.00      0.97      0.98     18163\n",
      "           4       0.00      0.00      0.00        14\n",
      "\n",
      "    accuracy                           0.98    733705\n",
      "   macro avg       0.79      0.63      0.67    733705\n",
      "weighted avg       0.98      0.98      0.98    733705\n",
      "\n"
     ]
    }
   ],
   "source": [
    "print(\"Random Forest: Category\\n\")\n",
    "print(confusion_matrix(test_labels['category'],predictions_rf['category']))\n",
    "print(classification_report(test_labels['category'],predictions_rf['category']))"
   ]
  },
  {
   "cell_type": "code",
   "execution_count": 121,
   "metadata": {
    "id": "FrUIy-7lW4bI",
    "outputId": "df80c07d-4483-4745-f437-a132512d2908"
   },
   "outputs": [
    {
     "name": "stdout",
     "output_type": "stream",
     "text": [
      "Random Forest: Subcategory\n",
      "\n",
      "[[    72      0      0      0      2    430      0]\n",
      " [     0      0      0      0     13      0      1]\n",
      " [     1      0      6      0     75     23      2]\n",
      " [     0      0      0      4   3484    129      4]\n",
      " [     0      0      0      0  14138    404      0]\n",
      " [     0      0      0      0      1 318161    175]\n",
      " [     0      0      0      0      0     12 396568]]\n",
      "              precision    recall  f1-score   support\n",
      "\n",
      "           1       0.99      0.14      0.25       504\n",
      "           2       0.00      0.00      0.00        14\n",
      "           3       1.00      0.06      0.11       107\n",
      "           4       1.00      0.00      0.00      3621\n",
      "           5       0.80      0.97      0.88     14542\n",
      "           6       1.00      1.00      1.00    318337\n",
      "           7       1.00      1.00      1.00    396580\n",
      "\n",
      "    accuracy                           0.99    733705\n",
      "   macro avg       0.83      0.45      0.46    733705\n",
      "weighted avg       0.99      0.99      0.99    733705\n",
      "\n"
     ]
    }
   ],
   "source": [
    "print(\"Random Forest: Subcategory\\n\")\n",
    "print(confusion_matrix(test_labels['subcategory'],predictions_rf['subcategory']))\n",
    "print(classification_report(test_labels['subcategory'],predictions_rf['subcategory']))"
   ]
  },
  {
   "cell_type": "markdown",
   "metadata": {
    "id": "3G80cVx3W4bJ"
   },
   "source": [
    "**Decision Tree (Information Gain)**"
   ]
  },
  {
   "cell_type": "code",
   "execution_count": 124,
   "metadata": {
    "id": "BX94uWumW4bJ"
   },
   "outputs": [],
   "source": [
    "dtree_ig_clf = DecisionTree('entropy')\n",
    "dtree_ig_clf.fit(train_data,target_features)\n",
    "predictions_ig = dtree_ig_clf.predict(test)"
   ]
  },
  {
   "cell_type": "code",
   "execution_count": 125,
   "metadata": {
    "id": "lFLwk5R5W4bK",
    "outputId": "5ad161f7-143c-4e9c-965d-6c38035f8f07"
   },
   "outputs": [
    {
     "name": "stdout",
     "output_type": "stream",
     "text": [
      "Decision Tree (Information Gain): Attack\n",
      "\n",
      "[[    40     67]\n",
      " [     2 733596]] \n",
      "\n",
      "              precision    recall  f1-score   support\n",
      "\n",
      "           0       0.95      0.37      0.54       107\n",
      "           1       1.00      1.00      1.00    733598\n",
      "\n",
      "    accuracy                           1.00    733705\n",
      "   macro avg       0.98      0.69      0.77    733705\n",
      "weighted avg       1.00      1.00      1.00    733705\n",
      "\n"
     ]
    }
   ],
   "source": [
    "print(\"Decision Tree (Information Gain): Attack\\n\")\n",
    "print(confusion_matrix(test_labels['attack'],predictions_ig['attack']),\"\\n\")\n",
    "print(classification_report(test_labels['attack'],predictions_ig['attack']))"
   ]
  },
  {
   "cell_type": "code",
   "execution_count": 126,
   "metadata": {
    "id": "wrjfxQmJW4bK",
    "outputId": "30e08ef7-9ad5-4316-9617-967718026f19"
   },
   "outputs": [
    {
     "name": "stdout",
     "output_type": "stream",
     "text": [
      "Decision Tree (Information Gain): Category\n",
      "\n",
      "[[339497  45290      0    522      0]\n",
      " [ 11703 318367      0     42      0]\n",
      " [     9     15     33     50      0]\n",
      " [   351   7450      2  10360      0]\n",
      " [     0      0      0     14      0]]\n",
      "              precision    recall  f1-score   support\n",
      "\n",
      "           0       0.97      0.88      0.92    385309\n",
      "           1       0.86      0.96      0.91    330112\n",
      "           2       0.94      0.31      0.46       107\n",
      "           3       0.94      0.57      0.71     18163\n",
      "           4       0.00      0.00      0.00        14\n",
      "\n",
      "    accuracy                           0.91    733705\n",
      "   macro avg       0.74      0.54      0.60    733705\n",
      "weighted avg       0.92      0.91      0.91    733705\n",
      "\n"
     ]
    }
   ],
   "source": [
    "print(\"Decision Tree (Information Gain): Category\\n\")\n",
    "print(confusion_matrix(test_labels['category'],predictions_ig['category']))\n",
    "print(classification_report(test_labels['category'],predictions_ig['category']))"
   ]
  },
  {
   "cell_type": "code",
   "execution_count": 127,
   "metadata": {
    "id": "7bRpJV8NW4bK",
    "outputId": "29e9e94e-4b75-4eb4-fffe-06bf79a74e31"
   },
   "outputs": [
    {
     "name": "stdout",
     "output_type": "stream",
     "text": [
      "Decision Tree (Information Gain): Subcategory\n",
      "\n",
      "[[   384      0      0      0     87     33      0]\n",
      " [     0      5      0      0      9      0      0]\n",
      " [     0      0     36      4     44      9     14]\n",
      " [     0      0      2    942    574   2089     14]\n",
      " [    27      0      0    222   8623   5654     16]\n",
      " [    23      0      0      0    453 317861      0]\n",
      " [     0      0      0      0      0      8 396572]] \n",
      "\n",
      "              precision    recall  f1-score   support\n",
      "\n",
      "           1       0.88      0.76      0.82       504\n",
      "           2       1.00      0.36      0.53        14\n",
      "           3       0.95      0.34      0.50       107\n",
      "           4       0.81      0.26      0.39      3621\n",
      "           5       0.88      0.59      0.71     14542\n",
      "           6       0.98      1.00      0.99    318337\n",
      "           7       1.00      1.00      1.00    396580\n",
      "\n",
      "    accuracy                           0.99    733705\n",
      "   macro avg       0.93      0.62      0.70    733705\n",
      "weighted avg       0.99      0.99      0.99    733705\n",
      "\n"
     ]
    }
   ],
   "source": [
    "print(\"Decision Tree (Information Gain): Subcategory\\n\")\n",
    "print(confusion_matrix(test_labels['subcategory'],predictions_ig['subcategory']),\"\\n\")\n",
    "print(classification_report(test_labels['subcategory'],predictions_ig['subcategory']))"
   ]
  },
  {
   "cell_type": "markdown",
   "metadata": {
    "id": "bt_S2tqgW4bK"
   },
   "source": [
    "**Decision Tree (Gini Index)**"
   ]
  },
  {
   "cell_type": "code",
   "execution_count": 128,
   "metadata": {
    "id": "RdQ_8bVYW4bK"
   },
   "outputs": [],
   "source": [
    "dtree_gi_clf = DecisionTree('gini')\n",
    "dtree_gi_clf.fit(train_data,target_features)\n",
    "predictions_gi = dtree_gi_clf.predict(test)"
   ]
  },
  {
   "cell_type": "code",
   "execution_count": 129,
   "metadata": {
    "id": "2DX6pBwkW4bK",
    "outputId": "49bf45f0-f595-4f7c-d5a0-226c97aa40aa"
   },
   "outputs": [
    {
     "name": "stdout",
     "output_type": "stream",
     "text": [
      "Decision Tree (Gini Index): Attack\n",
      "\n",
      "[[    39     68]\n",
      " [     3 733595]] \n",
      "\n",
      "              precision    recall  f1-score   support\n",
      "\n",
      "           0       0.93      0.36      0.52       107\n",
      "           1       1.00      1.00      1.00    733598\n",
      "\n",
      "    accuracy                           1.00    733705\n",
      "   macro avg       0.96      0.68      0.76    733705\n",
      "weighted avg       1.00      1.00      1.00    733705\n",
      "\n"
     ]
    }
   ],
   "source": [
    "print(\"Decision Tree (Gini Index): Attack\\n\")\n",
    "print(confusion_matrix(test_labels['attack'],predictions_gi['attack']),\"\\n\")\n",
    "print(classification_report(test_labels['attack'],predictions_gi['attack']))"
   ]
  },
  {
   "cell_type": "code",
   "execution_count": 130,
   "metadata": {
    "id": "mAfNdijIW4bK",
    "outputId": "302b2a3c-0756-4dfd-c42a-cb825d5ad79a"
   },
   "outputs": [
    {
     "name": "stdout",
     "output_type": "stream",
     "text": [
      "Decision Tree (Gini Index): Category\n",
      "\n",
      "[[338396  46453      0    460      0]\n",
      " [  8631 321472      1      8      0]\n",
      " [     0     18     33     56      0]\n",
      " [    68   7383      2  10710      0]\n",
      " [     0      5      0      9      0]]\n",
      "              precision    recall  f1-score   support\n",
      "\n",
      "           0       0.97      0.88      0.92    385309\n",
      "           1       0.86      0.97      0.91    330112\n",
      "           2       0.92      0.31      0.46       107\n",
      "           3       0.95      0.59      0.73     18163\n",
      "           4       0.00      0.00      0.00        14\n",
      "\n",
      "    accuracy                           0.91    733705\n",
      "   macro avg       0.74      0.55      0.61    733705\n",
      "weighted avg       0.92      0.91      0.91    733705\n",
      "\n"
     ]
    }
   ],
   "source": [
    "print(\"Decision Tree (Gini Index): Category\\n\")\n",
    "print(confusion_matrix(test_labels['category'],predictions_gi['category']))\n",
    "print(classification_report(test_labels['category'],predictions_gi['category']))"
   ]
  },
  {
   "cell_type": "code",
   "execution_count": 131,
   "metadata": {
    "id": "rkhhpNJTW4bL",
    "outputId": "e2f8e513-b157-4ed5-ae6a-4224d5ac6629"
   },
   "outputs": [
    {
     "name": "stdout",
     "output_type": "stream",
     "text": [
      "Decision Tree (Gini Index): Subcategory\n",
      "\n",
      "[[   416      0      0      0     10     78      0]\n",
      " [     0      0      0      0      9      5      0]\n",
      " [    13      0      5      5     82      2      0]\n",
      " [    14      0      1    859    710   2037      0]\n",
      " [    11      2      0     71   9069   5388      1]\n",
      " [    63      0      0      0    459 317814      1]\n",
      " [     0      0      0      0      0      9 396571]] \n",
      "\n",
      "              precision    recall  f1-score   support\n",
      "\n",
      "           1       0.80      0.83      0.81       504\n",
      "           2       0.00      0.00      0.00        14\n",
      "           3       0.83      0.05      0.09       107\n",
      "           4       0.92      0.24      0.38      3621\n",
      "           5       0.88      0.62      0.73     14542\n",
      "           6       0.98      1.00      0.99    318337\n",
      "           7       1.00      1.00      1.00    396580\n",
      "\n",
      "    accuracy                           0.99    733705\n",
      "   macro avg       0.77      0.53      0.57    733705\n",
      "weighted avg       0.99      0.99      0.99    733705\n",
      "\n"
     ]
    }
   ],
   "source": [
    "print(\"Decision Tree (Gini Index): Subcategory\\n\")\n",
    "print(confusion_matrix(test_labels['subcategory'],predictions_gi['subcategory']),\"\\n\")\n",
    "print(classification_report(test_labels['subcategory'],predictions_gi['subcategory']))"
   ]
  },
  {
   "cell_type": "markdown",
   "metadata": {
    "id": "wrcCFVFaW4bL"
   },
   "source": [
    "**Gradient Boost**"
   ]
  },
  {
   "cell_type": "code",
   "execution_count": 136,
   "metadata": {
    "id": "20_TJ_JZW4bL",
    "outputId": "75fb7e0c-92f2-4ff3-e3e7-90d90d13dede"
   },
   "outputs": [],
   "source": [
    "xgb_clf = GradientBoost()\n",
    "xgb_clf.fit(train_data,target_features)\n",
    "predictions_gb = xgb_clf.predict(test)"
   ]
  },
  {
   "cell_type": "code",
   "execution_count": 137,
   "metadata": {
    "id": "lVNsvb8_W4bL",
    "outputId": "244256ab-7fc1-4cbf-e13b-34aa58181bf6"
   },
   "outputs": [
    {
     "name": "stdout",
     "output_type": "stream",
     "text": [
      "Gradient Boost: Attack\n",
      "\n",
      "[[    99      8]\n",
      " [     1 733597]] \n",
      "\n",
      "              precision    recall  f1-score   support\n",
      "\n",
      "           0       0.99      0.93      0.96       107\n",
      "           1       1.00      1.00      1.00    733598\n",
      "\n",
      "    accuracy                           1.00    733705\n",
      "   macro avg       0.99      0.96      0.98    733705\n",
      "weighted avg       1.00      1.00      1.00    733705\n",
      "\n"
     ]
    }
   ],
   "source": [
    "print(\"Gradient Boost: Attack\\n\")\n",
    "print(confusion_matrix(test_labels['attack'],predictions_gb['attack']),\"\\n\")\n",
    "print(classification_report(test_labels['attack'],predictions_gb['attack']))"
   ]
  },
  {
   "cell_type": "code",
   "execution_count": 138,
   "metadata": {
    "id": "5zjKguxFW4bL",
    "outputId": "a9d004c0-bb7e-4f6a-8572-0e6bc0b2b3f2"
   },
   "outputs": [
    {
     "name": "stdout",
     "output_type": "stream",
     "text": [
      "Gradient Boost: Category\n",
      "\n",
      "[[385296     12      0      1      0]\n",
      " [    17 330094      1      0      0]\n",
      " [     0      0     99      8      0]\n",
      " [     0      1      0  18162      0]\n",
      " [     0      0      0      0     14]] \n",
      "\n",
      "              precision    recall  f1-score   support\n",
      "\n",
      "           0       1.00      1.00      1.00    385309\n",
      "           1       1.00      1.00      1.00    330112\n",
      "           2       0.99      0.93      0.96       107\n",
      "           3       1.00      1.00      1.00     18163\n",
      "           4       1.00      1.00      1.00        14\n",
      "\n",
      "    accuracy                           1.00    733705\n",
      "   macro avg       1.00      0.99      0.99    733705\n",
      "weighted avg       1.00      1.00      1.00    733705\n",
      "\n"
     ]
    }
   ],
   "source": [
    "print(\"Gradient Boost: Category\\n\")\n",
    "print(confusion_matrix(test_labels['category'],predictions_gb['category']),\"\\n\")\n",
    "print(classification_report(test_labels['category'],predictions_gb['category']))"
   ]
  },
  {
   "cell_type": "code",
   "execution_count": 139,
   "metadata": {
    "id": "zsDZjuPRW4bL",
    "outputId": "d9818d2c-9e44-4e3d-cf65-a7635dc204c5"
   },
   "outputs": [
    {
     "name": "stdout",
     "output_type": "stream",
     "text": [
      "Gradient Boost: Subcategory\n",
      "\n",
      "[[   496      0      1      0      1      6      0]\n",
      " [     0     14      0      0      0      0      0]\n",
      " [     0      0     99      0      8      0      0]\n",
      " [     0      0      0   3350    271      0      0]\n",
      " [     1      0      0    227  14314      0      0]\n",
      " [     0      0      0      0      0 318337      0]\n",
      " [     1      0      0      0      0      5 396574]] \n",
      "\n",
      "              precision    recall  f1-score   support\n",
      "\n",
      "           1       1.00      0.98      0.99       504\n",
      "           2       1.00      1.00      1.00        14\n",
      "           3       0.99      0.93      0.96       107\n",
      "           4       0.94      0.93      0.93      3621\n",
      "           5       0.98      0.98      0.98     14542\n",
      "           6       1.00      1.00      1.00    318337\n",
      "           7       1.00      1.00      1.00    396580\n",
      "\n",
      "    accuracy                           1.00    733705\n",
      "   macro avg       0.99      0.97      0.98    733705\n",
      "weighted avg       1.00      1.00      1.00    733705\n",
      "\n"
     ]
    }
   ],
   "source": [
    "print(\"Gradient Boost: Subcategory\\n\")\n",
    "print(confusion_matrix(test_labels['subcategory'],predictions_gb['subcategory']),\"\\n\")\n",
    "print(classification_report(test_labels['subcategory'],predictions_gb['subcategory']))"
   ]
  }
 ],
 "metadata": {
  "colab": {
   "provenance": []
  },
  "kernelspec": {
   "display_name": "Python 3 (ipykernel)",
   "language": "python",
   "name": "python3"
  },
  "language_info": {
   "codemirror_mode": {
    "name": "ipython",
    "version": 3
   },
   "file_extension": ".py",
   "mimetype": "text/x-python",
   "name": "python",
   "nbconvert_exporter": "python",
   "pygments_lexer": "ipython3",
   "version": "3.11.2"
  }
 },
 "nbformat": 4,
 "nbformat_minor": 1
}
